{
 "cells": [
  {
   "cell_type": "code",
   "execution_count": 1,
   "metadata": {},
   "outputs": [],
   "source": [
    "import numpy as np\n",
    "from numpy import random as rd\n",
    "import time\n",
    "# from solvers_listos import *\n",
    "from funciones import *\n",
    "from demandas import *\n",
    "import seaborn as sns\n",
    "import json\n",
    "\n",
    "from codigo_chiu_adaptado import *"
   ]
  },
  {
   "cell_type": "code",
   "execution_count": 2,
   "metadata": {},
   "outputs": [
    {
     "name": "stdout",
     "output_type": "stream",
     "text": [
      "{0: 0, 1: 91, 2: 27, 3: 11, 4: 63, 5: 69, 6: 67, 7: 91, 8: 46, 9: 73, 10: 66}\n"
     ]
    }
   ],
   "source": [
    "%run politica_R.ipynb\n",
    "%run politica_P.ipynb\n",
    "# hay que ver qué onda este print\n",
    "# el print es porque se corre allá"
   ]
  },
  {
   "cell_type": "code",
   "execution_count": null,
   "metadata": {},
   "outputs": [],
   "source": [
    "# np.random.seed(0)\n",
    "horizonte = 60\n",
    "G, ubis, cap_tpte, info_locales = crear_grafo_inicial(archivo= 'n30full.xlsx' ,plot=True)\n",
    "historia = simular_demanda_previa(G, dist = 'o', T=360, d=30, ruido=0)"
   ]
  },
  {
   "cell_type": "code",
   "execution_count": null,
   "metadata": {},
   "outputs": [],
   "source": [
    "demanda_n = simular_demanda_previa(G, dist=\"n\", T=100, ruido=0)\n",
    "demanda_c = simular_demanda_previa(G, dist=\"c\", T=100, ruido=0)\n",
    "demanda_o = simular_demanda_previa(G, dist=\"o\", T=100, ruido=0, d=30)\n",
    "\n",
    "plt.plot(list(demanda_n['N_1']), label='Normal')\n",
    "plt.plot(list(demanda_c['N_1']), label='Peak')\n",
    "plt.plot(list(demanda_o['N_1']), label='Oscilante')\n",
    "plt.legend()"
   ]
  },
  {
   "cell_type": "code",
   "execution_count": null,
   "metadata": {},
   "outputs": [],
   "source": [
    "#rutas_R, perdidas_R, inventarios_R, costos_R, dems_R = simular_ejecucion_R(grafo_inicial = G, dem_historico = historia, capacidad = cap_tpte, T = 360)\n",
    "rutas_R, perdidas_R, inventarios_R, costos_R, dems_R = simular_ejecucion_R_modificada(grafo_inicial = G, dem_historico = historia, capacidad = cap_tpte,\n",
    "                                                                          tipo_demanda = 'o', T = 100, d=30)"
   ]
  },
  {
   "cell_type": "code",
   "execution_count": null,
   "metadata": {},
   "outputs": [],
   "source": [
    "#rutas_P, perdidas_P, inventarios_P, costos_P, dems_P = simular_ejecucion_P_LS(grafo_inicial = G, dem_historico= historia, T = 360, F = 15, cap = 871)\n",
    "rutas_P, perdidas_P, inventarios_P, costos_P, dems_P = simular_ejecucion_P_LS_modificada(grafo_inicial = G, dem_historico=historia, T = 100, F = 7, cap = 871,\n",
    "                                                                              tipo_demanda = 'o', d=30)"
   ]
  },
  {
   "cell_type": "code",
   "execution_count": null,
   "metadata": {},
   "outputs": [],
   "source": [
    "insatisf_R = []\n",
    "insatisf_P = []\n",
    "print(len(costos_R[0]))\n",
    "for dia in range(len(dems_P)):\n",
    "    insatisf_R.append(costos_R[0][dia]/sum(dems_P[dia].values()))\n",
    "    insatisf_P.append(costos_P[0][dia]/sum(dems_P[dia].values()))\n",
    "\n",
    "len(insatisf_P)\n"
   ]
  },
  {
   "cell_type": "code",
   "execution_count": null,
   "metadata": {},
   "outputs": [],
   "source": [
    "import numpy as np\n",
    "import matplotlib.pyplot as plt\n",
    "\n",
    "#The data\n",
    "\n",
    "#Calculate optimal width\n",
    "# width = np.min(np.diff(indices))/3\n",
    "width = 1/3\n",
    "x_R = [x-width for x in range(len(insatisf_R))]\n",
    "fig = plt.figure()\n",
    "ax = fig.add_subplot(111)\n",
    "# matplotlib 3.0 you have to use align\n",
    "# ax.bar(indices-width,womenMeans,width,color='b',label='-Ymin',align='edge')\n",
    "# ax.bar(indices,menMeans,width,color='r',label='Ymax',align='edge')\n",
    "\n",
    "ax.bar(x_R, insatisf_R, width, color = 'r', label = 'Instatisfacción Reactiva', align='edge')\n",
    "ax.bar(range(len(insatisf_P)), insatisf_P,width, color = 'b', label = 'Instatisfacción Proactiva', align='edge')\n",
    "\n",
    "ax.set_xlabel('Test histogram')\n",
    "ax.set_ylabel('Y axis')\n",
    "plt.ylim(0,1)\n",
    "plt.legend()\n",
    "plt.show()"
   ]
  },
  {
   "cell_type": "code",
   "execution_count": null,
   "metadata": {},
   "outputs": [],
   "source": [
    "plt.plot(smooth(inventarios_R, 10), color = 'red', label = 'Inventario Reactiva')\n",
    "plt.plot(smooth(inventarios_P, 10), color = 'blue', label = 'Inventario Proactiva')\n",
    "\n",
    "plt.xlabel('Tiempo')\n",
    "plt.ylabel('Inventario')\n",
    "plt.title('Inventario total en el tiempo')\n",
    "plt.legend(['Inventario Pol. proactiva', 'Inventario Pol. reactiva'])\n",
    "plt.xlim(0,len(inventarios_P)-5)\n",
    "plt.ylim(0000,2000)"
   ]
  },
  {
   "cell_type": "code",
   "execution_count": null,
   "metadata": {},
   "outputs": [],
   "source": [
    "# for i in range(60):\n",
    "#     print(costos_R[0][i], costos_R[1][i])\n",
    "\n",
    "costo_total_P = [costos_P[0][i] + costos_P[1][i] for i in range(len(costos_P[0]))]\n",
    "costo_total_R = [costos_R[0][i] + costos_R[1][i] for i in range(len(costos_R[0]))]"
   ]
  },
  {
   "cell_type": "code",
   "execution_count": null,
   "metadata": {},
   "outputs": [],
   "source": [
    "plt.plot(smooth(costos_R[0], 7), color = 'red', linestyle = 'dotted', label = 'Reactiva SO')\n",
    "plt.plot(smooth(costos_P[0], 7), color = 'blue', linestyle = 'dotted', label = 'Proactiva SO')\n",
    "\n",
    "plt.xlabel('Tiempo')\n",
    "plt.ylabel('Costo')\n",
    "plt.title('Costos semanales en el tiempo')\n",
    "plt.legend()\n",
    "plt.xlim(0,len(inventarios_P)-5)\n",
    "plt.ylim(0,2000)"
   ]
  },
  {
   "cell_type": "code",
   "execution_count": null,
   "metadata": {},
   "outputs": [],
   "source": [
    "# plt.plot(smooth(inventarios_P, 7), color = 'red')\n",
    "# plt.plot(smooth(inventarios_R, 7), color = 'blue')\n",
    "\n",
    "plt.plot(smooth(costos_R[0], 7), color = 'red', linestyle = 'dotted', label = 'Reactiva SO')\n",
    "plt.plot(smooth(costos_R[1], 7), color = 'red', linestyle = '--', label = 'Reactiva R')\n",
    "\n",
    "# plt.plot(smooth(costos_R[0], 7), color = 'red', linestyle = 'dotted', label = 'Reactiva SO')\n",
    "# plt.plot(smooth(costos_R[1], 7), color = 'red', linestyle = '--', label = 'Reactiva R')\n",
    "\n",
    "plt.plot(smooth(costos_P[0], 7), color = 'blue', linestyle = 'dotted', label = 'Proactiva SO')\n",
    "plt.plot(smooth(costos_P[1], 7), color = 'blue', linestyle = '--', label = 'Proactiva R')\n",
    "\n",
    "plt.xlabel('Tiempo')\n",
    "plt.ylabel('Costo')\n",
    "plt.title('Costos semanales en el tiempo')\n",
    "plt.legend()\n",
    "plt.xlim(0,len(inventarios_P)-5)\n",
    "plt.ylim(0,3000)"
   ]
  },
  {
   "cell_type": "code",
   "execution_count": null,
   "metadata": {},
   "outputs": [],
   "source": [
    "costo_total_P_inv = [costos_P[0][i]*3 + costos_P[1][i] + inventarios_P[i]*2 for i in range(len(costos_P[0]))]\n",
    "costo_total_R_inv = [costos_R[0][i]*3 + costos_R[1][i] + inventarios_R[i]*2 for i in range(len(costos_R[0]))]"
   ]
  },
  {
   "cell_type": "code",
   "execution_count": null,
   "metadata": {},
   "outputs": [],
   "source": [
    "plt.plot(smooth(inventarios_R, 7), linestyle = 'dashdot', color = 'red', label = 'Reactiva I')\n",
    "plt.plot(smooth(inventarios_P, 7), linestyle = 'dashdot', color = 'blue', label = 'Proactiva I')\n",
    "\n",
    "plt.plot(smooth(costos_R[0], 7), color = 'red', linestyle = 'dotted', label = 'Reactiva SO')\n",
    "plt.plot(smooth(costos_R[1], 7), color = 'red', linestyle = '--', label = 'Reactiva R')\n",
    "\n",
    "# plt.plot(smooth(costos_R[0], 7), color = 'red', linestyle = 'dotted', label = 'Reactiva SO')\n",
    "# plt.plot(smooth(costos_R[1], 7), color = 'red', linestyle = '--', label = 'Reactiva R')\n",
    "\n",
    "plt.plot(smooth(costos_P[0], 7), color = 'blue', linestyle = 'dotted', label = 'Proactiva SO')\n",
    "plt.plot(smooth(costos_P[1], 7), color = 'blue', linestyle = '--', label = 'Proactiva R')\n",
    "\n",
    "plt.xlabel('Tiempo')\n",
    "plt.ylabel('Costo')\n",
    "plt.title('Costos semanales en el tiempo')\n",
    "plt.legend()\n",
    "plt.xlim(0,len(inventarios_P)-5)\n",
    "plt.ylim(0,3500)"
   ]
  },
  {
   "cell_type": "code",
   "execution_count": null,
   "metadata": {},
   "outputs": [],
   "source": [
    "plt.plot(smooth(costo_total_R, 7), color = 'red', label = 'Reactiva Total')\n",
    "plt.plot(smooth(costo_total_P, 7), color = 'blue', label = 'Proactiva Total')\n",
    "\n",
    "plt.xlabel('Tiempo')\n",
    "plt.ylabel('Costo')\n",
    "plt.title('Costos semanales en el tiempo')\n",
    "plt.legend()\n",
    "plt.xlim(0,len(inventarios_P)-5)\n",
    "# plt.ylim(0,2000)"
   ]
  },
  {
   "cell_type": "code",
   "execution_count": null,
   "metadata": {},
   "outputs": [],
   "source": [
    "\n",
    "plt.figure(figsize=(10,6))\n",
    "\n",
    "plt.plot(smooth(costo_total_R_inv, 10), color = 'red', label = 'Reactiva Total')\n",
    "plt.plot(smooth(inventarios_R, 10), linestyle = 'dashdot', color = 'red', label = 'Reactiva I')\n",
    "plt.plot(smooth(costos_R[0], 10), color = 'red', linestyle = 'dotted', label = 'Reactiva SO') \n",
    "plt.plot(smooth(costos_R[1], 10), color = 'red', linestyle = '--', label = 'Reactiva R')\n",
    "\n",
    "plt.plot(smooth(costo_total_P_inv, 10), color = 'blue', label = 'Proactiva Total')\n",
    "plt.plot(smooth(inventarios_P, 10), linestyle = 'dashdot', color = 'blue', label = 'Proactiva I')\n",
    "plt.plot(smooth(costos_P[0], 10), color = 'blue', linestyle = 'dotted', label = 'Proactiva SO')\n",
    "plt.plot(smooth(costos_P[1], 10), color = 'blue', linestyle = '--', label = 'Proactiva R')\n",
    "\n",
    "\n",
    "plt.xlabel('Tiempo')\n",
    "plt.ylabel('Costo')\n",
    "plt.title('Costos semanales en el tiempo')\n",
    "# plt.legend()\n",
    "plt.xlim(0,len(inventarios_P)-5)\n",
    "# plt.ylim(0,6000)\n",
    "\n",
    "box = ax.get_position()\n",
    "ax.set_position([box.x0, box.y0 + box.height * 0.1,\n",
    "                 box.width, box.height * 0.9])\n",
    "\n",
    "# Put a legend below current axis\n",
    "# ax.legend(loc='upper center', bbox_to_anchor=(0.5, -0.05),\n",
    "#           fancybox=True, shadow=True, ncol=5)\n",
    "l2 = plt.legend(bbox_to_anchor=(1.01, 0), loc=\"lower left\", borderaxespad=0)\n",
    "plt.show()"
   ]
  },
  {
   "cell_type": "code",
   "execution_count": null,
   "metadata": {},
   "outputs": [],
   "source": [
    "# plt.plot(smooth(costo_total_R_inv, 10), color = 'red', label = 'Reactiva Total')\n",
    "# plt.plot(smooth(inventarios_R, 10), linestyle = 'dashdot', color = 'red', label = 'Reactiva I')\n",
    "# plt.plot(smooth(costos_R[0], 10), color = 'red', linestyle = 'dotted', label = 'Reactiva SO') \n",
    "# plt.plot(smooth(costos_R[1], 10), color = 'red', linestyle = '--', label = 'Reactiva R')\n",
    "\n",
    "costo_rutas_R = np.sum(costos_R[1])/1000000\n",
    "costo_SO_R = np.sum(costos_R[0])*3/1000000\n",
    "costo_inv_R = np.sum(inventarios_R)*2/1000000\n",
    "CR = [costo_rutas_R, costo_SO_R, costo_inv_R]\n",
    "\n",
    "costo_rutas_P = np.sum(costos_P[1])/1000000\n",
    "costo_SO_P = np.sum(costos_P[0])*3/1000000\n",
    "costo_inv_P = np.sum(inventarios_P)*2/1000000\n",
    "CP = [costo_rutas_P, costo_SO_P, costo_inv_P]\n",
    "#The data\n",
    "print(CR, CP)\n",
    "#Calculate optimal width\n",
    "# width = np.min(np.diff(indices))/3\n",
    "width = 1/3\n",
    "x_R = [x-width for x in range(3)]\n",
    "fig = plt.figure()\n",
    "ax = fig.add_subplot(111)\n",
    "\n",
    "# matplotlib 3.0 you have to use align\n",
    "# ax.bar(indices-width,womenMeans,width,color='b',label='-Ymin',align='edge')\n",
    "# ax.bar(indices,menMeans,width,color='r',label='Ymax',align='edge')\n",
    "\n",
    "ax.bar(x_R, CR, width, color = 'r', label = 'Estrategia Reactiva', align='edge')\n",
    "ax.bar(range(3), CP, width, color = 'b', label = 'Estrategia Proactiva', align='edge')\n",
    "plt.xticks([0, 1, 2],['Rutas', 'Stockouts', 'Inventario'])\n",
    "plt.xlabel('Categoría')\n",
    "plt.ylabel('Costos (MM\\$)')\n",
    "plt.legend()\n",
    "plt.ylim(0,2)\n",
    "plt.show()"
   ]
  },
  {
   "cell_type": "code",
   "execution_count": null,
   "metadata": {},
   "outputs": [],
   "source": [
    "# costo_total_R_inv = [costos_R[0][i]*3 + costos_R[1][i] + inventarios_R[i]*2 for i in range(len(costos_R[0]))]\n",
    "\n",
    "labels = 'Stockouts', 'Rutas', 'Inventarios'\n",
    "sizes = [np.sum(costos_P[0])*3, np.sum(costos_P[1]), np.sum(inventarios_P)*2]\n",
    "explode = (0, 0, 0)  # only \"explode\" the 2nd slice (i.e. 'Hogs')\n",
    "print(sizes)\n",
    "fig1, ax1 = plt.subplots()\n",
    "ax1.pie(sizes, \n",
    "        explode=explode,\n",
    "        labels=labels, \n",
    "        autopct='%1.1f%%',\n",
    "        shadow=True, \n",
    "        startangle=90,\n",
    "        colors=sns.color_palette('Set3')\n",
    "        )\n",
    "ax1.axis('equal')  # Equal aspect ratio ensures that pie is drawn as a circle.\n",
    "ax1.set_title('Costos totales Política Proactiva')\n",
    "plt.show()"
   ]
  },
  {
   "cell_type": "code",
   "execution_count": null,
   "metadata": {},
   "outputs": [],
   "source": [
    "CR_R = []\n",
    "for cr in costos_R[1]:\n",
    "    if cr == np.inf:\n",
    "        CR_R.append(0)\n",
    "    else:\n",
    "        CR_R.append(cr)"
   ]
  },
  {
   "cell_type": "code",
   "execution_count": null,
   "metadata": {},
   "outputs": [],
   "source": [
    "labels = 'Stockouts', 'Rutas', 'Inventarios'\n",
    "sizes = [np.sum(costos_R[0])*3, np.sum(CR_R), np.sum(inventarios_R)*2]\n",
    "explode = (0, 0, 0)  # only \"explode\" the 2nd slice (i.e. 'Hogs')\n",
    "print(sizes)\n",
    "fig1, ax1 = plt.subplots()\n",
    "ax1.pie(sizes, \n",
    "        explode=explode,\n",
    "        labels=labels, \n",
    "        autopct='%1.1f%%',\n",
    "        shadow=True, \n",
    "        startangle=90,\n",
    "        colors=sns.color_palette('hls')[3:]\n",
    "        )\n",
    "ax1.axis('equal')  # Equal aspect ratio ensures that pie is drawn as a circle.\n",
    "ax1.set_title('Costos totales Política Reactiva')\n",
    "plt.show()"
   ]
  },
  {
   "cell_type": "code",
   "execution_count": null,
   "metadata": {},
   "outputs": [],
   "source": [
    "#cantidad_06 = len(df_nodos[df_nodos['frec'] >= 0.5])\n",
    "#cantidad_04 = len(df_nodos[df_nodos['frec'] < 0.5])\n",
    "\n",
    "#print (f'Locales visitados más de 50% de los días: {cantidad_06}, que corresponde a un {cantidad_06/N*100}%')\n",
    "#print (f'Locales visitados menos de 50% de los días: {cantidad_04}, que corresponde a un {cantidad_04/N*100}%')"
   ]
  },
  {
   "cell_type": "code",
   "execution_count": null,
   "metadata": {},
   "outputs": [],
   "source": [
    "#datos = dispersion_intervalos(df)\n",
    "        \n",
    "#df_nodos['mean'] = datos['mean']\n",
    "#df_nodos['std'] = datos['std']\n",
    "#df_nodos['porcentaje demanda'] = df_nodos['dem_mean'] / df_nodos['Up']\n",
    "#df_nodos['porcentaje dem. inicial'] = df_nodos['Prod'] / df_nodos['Up']\n",
    "#df_nodos_corr = df_nodos[['Inv','Up','Low','Prod','h','frec','mean','std','dem_mean','porcentaje demanda','porcentaje dem. inicial']]\n",
    "#df_nodos"
   ]
  },
  {
   "cell_type": "code",
   "execution_count": null,
   "metadata": {},
   "outputs": [],
   "source": [
    "#df_nodos_corr.corr()"
   ]
  },
  {
   "cell_type": "code",
   "execution_count": null,
   "metadata": {},
   "outputs": [],
   "source": [
    "n_s = [10]#,20,30]\n",
    "inicial = ['empty', 'estandar', 'full']\n",
    "datos_R = {}\n",
    "for n in n_s:\n",
    "    for i in inicial:\n",
    "        file_name = f'n{n}{i}.xlsx'\n",
    "        output = f'plots//tablero_n{n}_{i}_osc.png'\n",
    "        G, ubis, cap_tpte, info_locales = crear_grafo_inicial(archivo= file_name ,plot=False)\n",
    "        historia = simular_demanda_previa(G, dist = 'o', T=1000, d=30)\n",
    "        #rutas_R, perdidas_R, inventarios_R = simular_ejecucion_R_modificada(grafo_inicial = G, T = 365, dem_historico = historia, capacidad = cap_tpte)\n",
    "        rutas_R, perdidas_R, inventarios_R, costos_R, dems_R = simular_ejecucion_R_modificada(grafo_inicial = G, dem_historico = historia, capacidad = cap_tpte,\n",
    "                                                                           tipo_demanda = 'o', T = 360, d=30)\n",
    "        datos_R[f'n{n}{i}'] = {'rutas': rutas_R, 'perdidas': perdidas_R, 'inventarios': inventarios_R}\n",
    "        N = len(G.nodes())-1\n",
    "        df = generar_df(rutas_R, N)\n",
    "        plotear_tablero_visitas(df, guardar = True, nombre = output)\n",
    "        print (f'Listo {file_name}')"
   ]
  },
  {
   "cell_type": "code",
   "execution_count": null,
   "metadata": {},
   "outputs": [],
   "source": [
    "n_s = [10]#,20,30]\n",
    "inicial = ['empty', 'estandar', 'full']\n",
    "datos_R = {}\n",
    "for n in n_s:\n",
    "    for i in inicial:\n",
    "        file_name = f'n{n}{i}.xlsx'\n",
    "        output = f'plots//tablero_n{n}_{i}.png'\n",
    "        G, ubis, cap_tpte, info_locales = crear_grafo_inicial(archivo= file_name ,plot=False)\n",
    "        historia = simular_demanda_previa(G, dist = 'n', T=1000)\n",
    "        rutas_R, perdidas_R, inventarios_R = simular_ejecucion_R(grafo_inicial = G, T = 365, dem_historico = historia, capacidad = cap_tpte)\n",
    "        datos_R[f'n{n}{i}'] = {'rutas': rutas_R, 'perdidas': perdidas_R, 'inventarios': inventarios_R}\n",
    "        N = len(G.nodes())-1\n",
    "        df = generar_df(rutas_R, N)\n",
    "        plotear_tablero_visitas(df, guardar = True, nombre = output)\n",
    "        print (f'Listo {file_name}')\n",
    "\n",
    "\n",
    "\n",
    "        "
   ]
  },
  {
   "cell_type": "code",
   "execution_count": null,
   "metadata": {},
   "outputs": [],
   "source": []
  },
  {
   "cell_type": "code",
   "execution_count": null,
   "metadata": {},
   "outputs": [],
   "source": [
    "datos_P = {}\n",
    "for n in n_s:\n",
    "    for i in inicial:\n",
    "        file_name = f'n{n}{i}.xlsx'\n",
    "        output = f'plots//tablero_PRO_n{n}_{i}.png'\n",
    "        G, ubis, cap_tpte, info_locales = crear_grafo_inicial(archivo= file_name ,plot=False)\n",
    "        historia = simular_demanda_previa(G, dist = 'n', T=1000)\n",
    "        rutas_P, perdidas_P, inventarios_P = simular_ejecucion_P_LS(grafo_inicial = G, dem_historico= historia, T = 365, F = 5, cap = cap_tpte)\n",
    "        datos_P[f'n{n}{i}'] = {'rutas': rutas_P, 'perdidas': perdidas_P, 'inventarios': inventarios_P}\n",
    "        N = len(G.nodes())-1\n",
    "        df = generar_df(rutas_P, N)\n",
    "        plotear_tablero_visitas(df, guardar = True, nombre = output)\n",
    "        print (f'Listo {file_name}')\n"
   ]
  },
  {
   "cell_type": "code",
   "execution_count": null,
   "metadata": {},
   "outputs": [],
   "source": [
    "inventarios_P = {k: datos_P[k]['inventarios'] for k in list(datos_P.keys())}\n",
    "inventarios_R = {k: datos_R[k]['inventarios'] for k in list(datos_R.keys())}"
   ]
  },
  {
   "cell_type": "code",
   "execution_count": null,
   "metadata": {},
   "outputs": [],
   "source": [
    "\n",
    "\n",
    "# generamos un dataframe para luego plotear\n",
    "perdidas_P_1 = np.array(perdidas_P['n20estandar'])\n",
    "dias = np.arange(1,366)\n",
    "perdidas_R_1 = np.array(perdidas_R['n20estandar'])\n",
    "# ahora graficamos\n",
    "plt.figure(figsize=(15,5))\n",
    "plt.plot(dias, perdidas_P_1, label = 'Politica P')\n",
    "\n",
    "plt.plot(dias, perdidas_R_1, label = 'Politica R')\n",
    "\n",
    "plt.legend()\n",
    "\n",
    "plt.show()\n"
   ]
  },
  {
   "cell_type": "markdown",
   "metadata": {},
   "source": [
    "## Simulación Completa"
   ]
  },
  {
   "cell_type": "code",
   "execution_count": null,
   "metadata": {},
   "outputs": [],
   "source": [
    "n_s = [10,20,30]\n",
    "inicial = ['empty', 'estandar', 'full']\n",
    "demandas = ['n', 'c', 'o']#,'d']\n",
    "datos_R_sim = {}\n",
    "df_costos = pd.DataFrame()\n",
    "for n in n_s:\n",
    "    for i in inicial:\n",
    "        for dem in demandas:\n",
    "            file_name = f'n{n}{i}.xlsx'\n",
    "            output_tablero = f'plots//tablero_R_n{n}_{i}_{dem}.png'\n",
    "            G, ubis, cap_tpte, info_locales = crear_grafo_inicial(archivo= file_name ,plot=False)\n",
    "            historia = simular_demanda_previa(G, dist = dem, T=1000, d=30)\n",
    "            #rutas_R, perdidas_R, inventarios_R = simular_ejecucion_R_modificada(grafo_inicial = G, T = 365, dem_historico = historia, capacidad = cap_tpte)\n",
    "            rutas_R, perdidas_R, inventarios_R, costos_R, dems_R = simular_ejecucion_R_modificada(grafo_inicial = G, dem_historico = historia, capacidad = cap_tpte,\n",
    "                                                                            tipo_demanda = dem, T = 365, d=30)\n",
    "            datos_R_sim[f'n{n}_{i}_{dem}'] = {'rutas': rutas_R, 'perdidas': perdidas_R, 'inventarios': inventarios_R,\n",
    "                                            'costos': costos_R, 'demanda': dems_R}\n",
    "            costos_consolidados = calcular_costo_consolidado(costos_R, inventarios_R)\n",
    "            df_costos = pd.concat([df_costos, pd.DataFrame(costos_consolidados, index = [f'n{n}_{i}_{dem}'])])\n",
    "            N = len(G.nodes())-1\n",
    "\n",
    "            df_rutas = generar_df(rutas_R, N)\n",
    "            plotear_tablero_visitas(df_rutas, guardar = True, nombre = output_tablero)\n",
    "            print (f'Listo {file_name} con demanda {dem}')\n",
    "\n",
    "df_costos.to_csv('costos_R.csv')\n",
    "\n",
    "json.dump(datos_R_sim, open('datos_R_sim.json', 'w'))"
   ]
  },
  {
   "cell_type": "markdown",
   "metadata": {},
   "source": [
    "### Simulación P"
   ]
  },
  {
   "cell_type": "code",
   "execution_count": null,
   "metadata": {},
   "outputs": [],
   "source": [
    "#n_s = [10,20,30]\n",
    "#inicial = ['empty', 'estandar', 'full']\n",
    "#demandas = ['n', 'c', 'o']\n",
    "datos_P_sim = {}\n",
    "df_costos_P = pd.DataFrame()\n",
    "for n in n_s:\n",
    "    for i in inicial:\n",
    "        for dem in demandas:\n",
    "            file_name = f'n{n}{i}.xlsx'\n",
    "            output = f'plots//tablero_P_n{n}_{i}_{dem}.png'\n",
    "            G, ubis, cap_tpte, info_locales = crear_grafo_inicial(archivo= file_name ,plot=False)\n",
    "            historia = simular_demanda_previa(G, dist = dem, T=1000, d=30)\n",
    "            #rutas_R, perdidas_R, inventarios_R = simular_ejecucion_R_modificada(grafo_inicial = G, T = 365, dem_historico = historia, capacidad = cap_tpte)\n",
    "            rutas_P, perdidas_P, inventarios_P, costos_P, dems_P = simular_ejecucion_P_LS_modificada(grafo_inicial = G, dem_historico = historia, cap = cap_tpte,\n",
    "                                                                            tipo_demanda = dem, T = 365, d=30)\n",
    "            datos_P_sim[f'n{n}_{i}_{dem}'] = {'rutas': rutas_P, 'perdidas': perdidas_P, 'inventarios': inventarios_P,\n",
    "                                            'costos': costos_P, 'demanda': dems_P}\n",
    "            \n",
    "            costos_consolidados = calcular_costo_consolidado(costos_P, inventarios_P)\n",
    "            df_costos_P = pd.concat([df_costos_P, pd.DataFrame(costos_consolidados, index = [f'n{n}_{i}_{dem}'])])\n",
    "            N = len(G.nodes())-1\n",
    "            df = generar_df(rutas_P, N)\n",
    "            plotear_tablero_visitas(df, guardar = True, nombre = output)\n",
    "            print (f'Listo {file_name} con demanda {dem}')\n",
    "\n",
    "df_costos_P.to_csv('costos_P.csv')\n",
    "json.dump(datos_P_sim, open('datos_P_sim.json', 'w'))"
   ]
  },
  {
   "cell_type": "code",
   "execution_count": null,
   "metadata": {},
   "outputs": [],
   "source": [
    "df_costos_R = df_costos\n",
    "df_costos_R['demanda'] = [x.split('_')[-1] for x in df_costos_R.index]\n",
    "df_costos_R['inicial'] = [x.split('_')[1] for x in df_costos_R.index]\n",
    "df_costos_R['n'] = [x.split('_')[0][1:] for x in df_costos_R.index]\n",
    "\n",
    "df_costos_P['demanda'] = [x.split('_')[-1] for x in df_costos_P.index]\n",
    "df_costos_P['inicial'] = [x.split('_')[1] for x in df_costos_P.index]\n",
    "df_costos_P['n'] = [x.split('_')[0][1:] for x in df_costos_P.index]"
   ]
  },
  {
   "cell_type": "code",
   "execution_count": null,
   "metadata": {},
   "outputs": [],
   "source": [
    "df_costos_P"
   ]
  },
  {
   "cell_type": "code",
   "execution_count": null,
   "metadata": {},
   "outputs": [],
   "source": [
    "promedio_n10_P = df_costos_P[df_costos_P['n'] == '10'][['demanda','costo_SO','costo_rutas','costo_inventario']].groupby(['demanda']).mean()\n",
    "promedio_n20_P = df_costos_P[df_costos_P['n'] == '20'][['demanda','costo_SO','costo_rutas','costo_inventario']].groupby(['demanda']).mean()\n",
    "promedio_n30_P = df_costos_P[df_costos_P['n'] == '30'][['demanda','costo_SO','costo_rutas','costo_inventario']].groupby(['demanda']).mean()\n",
    "\n",
    "promedio_n10_R = df_costos_R[df_costos_R['n'] == '10'][['demanda','costo_SO','costo_rutas','costo_inventario']].groupby(['demanda']).mean()\n",
    "promedio_n20_R = df_costos_R[df_costos_R['n'] == '20'][['demanda','costo_SO','costo_rutas','costo_inventario']].groupby(['demanda']).mean()\n",
    "promedio_n30_R = df_costos_R[df_costos_R['n'] == '30'][['demanda','costo_SO','costo_rutas','costo_inventario']].groupby(['demanda']).mean()\n"
   ]
  },
  {
   "cell_type": "code",
   "execution_count": null,
   "metadata": {},
   "outputs": [],
   "source": [
    "promedio_n10_P['total'] = promedio_n10_P['costo_SO'] + promedio_n10_P['costo_rutas'] + promedio_n10_P['costo_inventario']\n",
    "promedio_n10_P"
   ]
  },
  {
   "cell_type": "code",
   "execution_count": null,
   "metadata": {},
   "outputs": [],
   "source": [
    "promedio_n10_R['total'] = promedio_n10_R['costo_SO'] + promedio_n10_R['costo_rutas'] + promedio_n10_R['costo_inventario']\n",
    "promedio_n10_R"
   ]
  },
  {
   "cell_type": "code",
   "execution_count": null,
   "metadata": {},
   "outputs": [],
   "source": [
    "promedio_n20_P['suma'] = promedio_n20_P['costo_SO'] + promedio_n20_P['costo_rutas'] + promedio_n20_P['costo_inventario']\n",
    "promedio_n20_P"
   ]
  },
  {
   "cell_type": "code",
   "execution_count": null,
   "metadata": {},
   "outputs": [],
   "source": [
    "promedio_n20_R['suma'] = promedio_n20_R['costo_SO'] + promedio_n20_R['costo_rutas'] + promedio_n20_R['costo_inventario']\n",
    "promedio_n20_R"
   ]
  },
  {
   "cell_type": "code",
   "execution_count": null,
   "metadata": {},
   "outputs": [],
   "source": [
    "promedio_n30_P['suma'] = promedio_n30_P['costo_SO'] + promedio_n30_P['costo_rutas'] + promedio_n30_P['costo_inventario']\n",
    "promedio_n30_P"
   ]
  },
  {
   "cell_type": "code",
   "execution_count": null,
   "metadata": {},
   "outputs": [],
   "source": [
    "promedio_n30_R['suma'] = promedio_n30_R['costo_SO'] + promedio_n30_R['costo_rutas'] + promedio_n30_R['costo_inventario']\n",
    "promedio_n30_R"
   ]
  },
  {
   "cell_type": "code",
   "execution_count": null,
   "metadata": {},
   "outputs": [],
   "source": [
    "# plt.plot(smooth(costo_total_R_inv, 10), color = 'red', label = 'Reactiva Total')\n",
    "# plt.plot(smooth(inventarios_R, 10), linestyle = 'dashdot', color = 'red', label = 'Reactiva I')\n",
    "# plt.plot(smooth(costos_R[0], 10), color = 'red', linestyle = 'dotted', label = 'Reactiva SO') \n",
    "# plt.plot(smooth(costos_R[1], 10), color = 'red', linestyle = '--', label = 'Reactiva R')\n",
    "\n",
    "costo_rutas_R = np.mean(promedio_n10_R['costo_rutas'])\n",
    "costo_SO_R = np.mean(promedio_n10_R['costo_SO'])\n",
    "costo_inv_R = np.mean(promedio_n10_R['costo_inventario'])\n",
    "CR = [costo_rutas_R, costo_SO_R, costo_inv_R]\n",
    "\n",
    "costo_rutas_P = np.mean(promedio_n10_P['costo_rutas'])\n",
    "costo_SO_P = np.mean(promedio_n10_P['costo_SO'])\n",
    "costo_inv_P = np.mean(promedio_n10_P['costo_inventario'])\n",
    "\n",
    "CP = [costo_rutas_P, costo_SO_P, costo_inv_P]\n",
    "#The data\n",
    "print(CR, CP)\n",
    "#Calculate optimal width\n",
    "# width = np.min(np.diff(indices))/3\n",
    "width = 1/3\n",
    "x_R = [x-width for x in range(3)]\n",
    "fig = plt.figure()\n",
    "ax = fig.add_subplot(111)\n",
    "\n",
    "# matplotlib 3.0 you have to use align\n",
    "# ax.bar(indices-width,womenMeans,width,color='b',label='-Ymin',align='edge')\n",
    "# ax.bar(indices,menMeans,width,color='r',label='Ymax',align='edge')\n",
    "\n",
    "ax.bar(x_R, CR, width, color = 'r', label = 'Estrategia Reactiva', align='edge')\n",
    "ax.bar(range(3), CP, width, color = 'b', label = 'Estrategia Proactiva', align='edge')\n",
    "plt.xticks([0, 1, 2],['Rutas', 'Stockouts', 'Inventario'])\n",
    "plt.xlabel('Categoría')\n",
    "plt.ylabel('Costos (MM\\$)')\n",
    "plt.legend()\n",
    "plt.ylim(0,0.1)\n",
    "plt.show()"
   ]
  },
  {
   "cell_type": "markdown",
   "metadata": {},
   "source": [
    "## Testeo Solución Gurobi"
   ]
  },
  {
   "cell_type": "code",
   "execution_count": 6,
   "metadata": {},
   "outputs": [
    {
     "name": "stdout",
     "output_type": "stream",
     "text": [
      "\n",
      "\n",
      "Se ha encontrado una solución en el tiempo 4.109999895095825 segundos\n",
      "Tiempo: 0 | Ruta: ['N_0', 'N_9', 'N_1', 'N_7', 'N_6', 'N_10', 'N_4', 'N_0'] | costo_SO: 153.17953016711127 | costo_r: 1064.33543763526\n",
      "\n",
      "\n",
      "Se ha encontrado una solución en el tiempo 5.468000173568726 segundos\n",
      "Tiempo: 1 | Ruta: ['N_0', 'N_9', 'N_2', 'N_10', 'N_5', 'N_4', 'N_0'] | costo_SO: 51.35159801468837 | costo_r: 915.0499077735481\n",
      "\n",
      "\n"
     ]
    },
    {
     "ename": "AttributeError",
     "evalue": "Unable to retrieve attribute 'x'",
     "output_type": "error",
     "traceback": [
      "\u001b[1;31m---------------------------------------------------------------------------\u001b[0m",
      "\u001b[1;31mAttributeError\u001b[0m                            Traceback (most recent call last)",
      "Input \u001b[1;32mIn [6]\u001b[0m, in \u001b[0;36m<cell line: 10>\u001b[1;34m()\u001b[0m\n\u001b[0;32m      7\u001b[0m G, ubis, cap_tpte, info_locales \u001b[38;5;241m=\u001b[39m crear_grafo_inicial(archivo\u001b[38;5;241m=\u001b[39m file_name ,plot\u001b[38;5;241m=\u001b[39m\u001b[38;5;28;01mFalse\u001b[39;00m)\n\u001b[0;32m      8\u001b[0m historia \u001b[38;5;241m=\u001b[39m simular_demanda_previa(G, dist \u001b[38;5;241m=\u001b[39m dem, T\u001b[38;5;241m=\u001b[39m\u001b[38;5;241m1000\u001b[39m, d\u001b[38;5;241m=\u001b[39m\u001b[38;5;241m30\u001b[39m)\n\u001b[1;32m---> 10\u001b[0m rutas_gurobi, perdidas_gurobi, inventarios_gurobi, costos_gurobi, dems_gurobi \u001b[38;5;241m=\u001b[39m \u001b[43msimular_ejecucion_P_deterministico\u001b[49m\u001b[43m(\u001b[49m\u001b[43mgrafo_inicial\u001b[49m\u001b[43m \u001b[49m\u001b[38;5;241;43m=\u001b[39;49m\u001b[43m \u001b[49m\u001b[43mG\u001b[49m\u001b[43m,\u001b[49m\u001b[43m \u001b[49m\u001b[43mdem_historico\u001b[49m\u001b[43m \u001b[49m\u001b[38;5;241;43m=\u001b[39;49m\u001b[43m \u001b[49m\u001b[43mhistoria\u001b[49m\u001b[43m,\u001b[49m\u001b[43m \u001b[49m\u001b[43mcap\u001b[49m\u001b[43m \u001b[49m\u001b[38;5;241;43m=\u001b[39;49m\u001b[43m \u001b[49m\u001b[43mcap_tpte\u001b[49m\u001b[43m,\u001b[49m\n\u001b[0;32m     11\u001b[0m \u001b[43m                                                                \u001b[49m\u001b[43mtipo_demanda\u001b[49m\u001b[43m \u001b[49m\u001b[38;5;241;43m=\u001b[39;49m\u001b[43m \u001b[49m\u001b[43mdem\u001b[49m\u001b[43m,\u001b[49m\u001b[43m \u001b[49m\u001b[43mT\u001b[49m\u001b[43m \u001b[49m\u001b[38;5;241;43m=\u001b[39;49m\u001b[43m \u001b[49m\u001b[38;5;241;43m365\u001b[39;49m\u001b[43m,\u001b[49m\u001b[43m \u001b[49m\u001b[43md\u001b[49m\u001b[38;5;241;43m=\u001b[39;49m\u001b[38;5;241;43m30\u001b[39;49m\u001b[43m)\u001b[49m\n\u001b[0;32m     12\u001b[0m \u001b[38;5;66;03m#solucion = simular_ejecucion_P_deterministico(grafo_inicial = G, dem_historico = historia, cap = cap_tpte,\u001b[39;00m\n\u001b[0;32m     13\u001b[0m \u001b[38;5;66;03m#                                                                tipo_demanda = dem, T = 365, d=30,\u001b[39;00m\n\u001b[0;32m     14\u001b[0m \u001b[38;5;66;03m#                                                               TEST = True)\u001b[39;00m\n\u001b[0;32m     15\u001b[0m datos_gurobi_sim[\u001b[38;5;124mf\u001b[39m\u001b[38;5;124m'\u001b[39m\u001b[38;5;124mn\u001b[39m\u001b[38;5;132;01m{\u001b[39;00mn\u001b[38;5;132;01m}\u001b[39;00m\u001b[38;5;124m_\u001b[39m\u001b[38;5;132;01m{\u001b[39;00mi\u001b[38;5;132;01m}\u001b[39;00m\u001b[38;5;124m_\u001b[39m\u001b[38;5;132;01m{\u001b[39;00mdem\u001b[38;5;132;01m}\u001b[39;00m\u001b[38;5;124m'\u001b[39m] \u001b[38;5;241m=\u001b[39m {\u001b[38;5;124m'\u001b[39m\u001b[38;5;124mrutas\u001b[39m\u001b[38;5;124m'\u001b[39m: rutas_gurobi, \u001b[38;5;124m'\u001b[39m\u001b[38;5;124mperdidas\u001b[39m\u001b[38;5;124m'\u001b[39m: perdidas_gurobi, \u001b[38;5;124m'\u001b[39m\u001b[38;5;124minventarios\u001b[39m\u001b[38;5;124m'\u001b[39m: inventarios_gurobi,\n\u001b[0;32m     16\u001b[0m                                 \u001b[38;5;124m'\u001b[39m\u001b[38;5;124mcostos\u001b[39m\u001b[38;5;124m'\u001b[39m: costos_gurobi, \u001b[38;5;124m'\u001b[39m\u001b[38;5;124mdemanda\u001b[39m\u001b[38;5;124m'\u001b[39m: dems_gurobi}\n",
      "File \u001b[1;32md:\\UNIVERSIDAD\\Cuarto\\Semestre 8\\IPRE\\IPRE-IRP\\codigo_chiu_adaptado.py:915\u001b[0m, in \u001b[0;36msimular_ejecucion_P_deterministico\u001b[1;34m(grafo_inicial, dem_historico, cap, tipo_demanda, T, d, F, TEST)\u001b[0m\n\u001b[0;32m    910\u001b[0m probs \u001b[38;5;241m=\u001b[39m {\u001b[38;5;124m'\u001b[39m\u001b[38;5;124mmu\u001b[39m\u001b[38;5;124m'\u001b[39m: mu, \u001b[38;5;124m'\u001b[39m\u001b[38;5;124msigma\u001b[39m\u001b[38;5;124m'\u001b[39m: sd}\n\u001b[0;32m    912\u001b[0m params[\u001b[38;5;124m'\u001b[39m\u001b[38;5;124mss\u001b[39m\u001b[38;5;124m'\u001b[39m] \u001b[38;5;241m=\u001b[39m {i: mu[i] \u001b[38;5;241m+\u001b[39m norm\u001b[38;5;241m.\u001b[39mppf(\u001b[38;5;241m0.95\u001b[39m)\u001b[38;5;241m*\u001b[39msd[i] \n\u001b[0;32m    913\u001b[0m                 \u001b[38;5;28;01mfor\u001b[39;00m i \u001b[38;5;129;01min\u001b[39;00m dem_historico\u001b[38;5;241m.\u001b[39mkeys()} \u001b[38;5;66;03m# key es (customer, day), value es safety stock\u001b[39;00m\n\u001b[1;32m--> 915\u001b[0m x_sol, q_sol, y_sol, MIPGap_sol, y_pred \u001b[38;5;241m=\u001b[39m \u001b[43mSolve_IRP_SS\u001b[49m\u001b[43m(\u001b[49m\u001b[43msets\u001b[49m\u001b[43m,\u001b[49m\u001b[43m \u001b[49m\u001b[43mparams\u001b[49m\u001b[43m,\u001b[49m\u001b[43m \u001b[49m\u001b[43mprobs\u001b[49m\u001b[43m,\u001b[49m\u001b[43m \u001b[49m\u001b[43mstatus\u001b[49m\u001b[43m,\u001b[49m\u001b[43m \u001b[49m\u001b[43mt0\u001b[49m\u001b[43m \u001b[49m\u001b[38;5;241;43m=\u001b[39;49m\u001b[43m \u001b[49m\u001b[43mt\u001b[49m\u001b[43m,\u001b[49m\u001b[43m \u001b[49m\u001b[43mhorizon\u001b[49m\u001b[43m \u001b[49m\u001b[38;5;241;43m=\u001b[39;49m\u001b[43m \u001b[49m\u001b[43mF\u001b[49m\u001b[43m)\u001b[49m\n\u001b[0;32m    917\u001b[0m \u001b[38;5;66;03m# print(f\"solucion = {x_, q_, y_, m.MIPGap, y_pred}\")\u001b[39;00m\n\u001b[0;32m    920\u001b[0m ruta \u001b[38;5;241m=\u001b[39m procesamiento_x_sol(x_sol)\n",
      "File \u001b[1;32md:\\UNIVERSIDAD\\Cuarto\\Semestre 8\\IPRE\\IPRE-IRP\\codigo_chiu_adaptado.py:408\u001b[0m, in \u001b[0;36mSolve_IRP_SS\u001b[1;34m(sets, params, probs, status, t0, horizon)\u001b[0m\n\u001b[0;32m    405\u001b[0m \u001b[38;5;28;01mif\u001b[39;00m m\u001b[38;5;241m.\u001b[39mSolCount \u001b[38;5;241m>\u001b[39m \u001b[38;5;241m0\u001b[39m:\n\u001b[0;32m    406\u001b[0m     \u001b[38;5;28mprint\u001b[39m(\u001b[38;5;124mf\u001b[39m\u001b[38;5;124m\"\u001b[39m\u001b[38;5;124mSe ha encontrado una solución en el tiempo \u001b[39m\u001b[38;5;132;01m{\u001b[39;00mm\u001b[38;5;241m.\u001b[39mRuntime\u001b[38;5;132;01m}\u001b[39;00m\u001b[38;5;124m segundos\u001b[39m\u001b[38;5;124m\"\u001b[39m)\n\u001b[1;32m--> 408\u001b[0m x_ \u001b[38;5;241m=\u001b[39m {(i, j, k): \u001b[38;5;28mround\u001b[39m(x[i, j, k, t0 \u001b[38;5;241m+\u001b[39m \u001b[38;5;241m1\u001b[39m]\u001b[38;5;241m.\u001b[39mx) \u001b[38;5;28;01mfor\u001b[39;00m (i, j) \u001b[38;5;129;01min\u001b[39;00m A \u001b[38;5;28;01mfor\u001b[39;00m k \u001b[38;5;129;01min\u001b[39;00m K}\n\u001b[0;32m    409\u001b[0m q_ \u001b[38;5;241m=\u001b[39m {(i, k): q[(i, k, t0 \u001b[38;5;241m+\u001b[39m \u001b[38;5;241m1\u001b[39m)]\u001b[38;5;241m.\u001b[39mx \u001b[38;5;28;01mfor\u001b[39;00m i \u001b[38;5;129;01min\u001b[39;00m C \u001b[38;5;28;01mfor\u001b[39;00m k \u001b[38;5;129;01min\u001b[39;00m K}\n\u001b[0;32m    410\u001b[0m y_ \u001b[38;5;241m=\u001b[39m {(i, k): \u001b[38;5;28mround\u001b[39m(y[i, k, t0 \u001b[38;5;241m+\u001b[39m \u001b[38;5;241m1\u001b[39m]\u001b[38;5;241m.\u001b[39mx) \u001b[38;5;28;01mfor\u001b[39;00m i \u001b[38;5;129;01min\u001b[39;00m N \u001b[38;5;28;01mfor\u001b[39;00m k \u001b[38;5;129;01min\u001b[39;00m K}\n",
      "File \u001b[1;32md:\\UNIVERSIDAD\\Cuarto\\Semestre 8\\IPRE\\IPRE-IRP\\codigo_chiu_adaptado.py:408\u001b[0m, in \u001b[0;36m<dictcomp>\u001b[1;34m(.0)\u001b[0m\n\u001b[0;32m    405\u001b[0m \u001b[38;5;28;01mif\u001b[39;00m m\u001b[38;5;241m.\u001b[39mSolCount \u001b[38;5;241m>\u001b[39m \u001b[38;5;241m0\u001b[39m:\n\u001b[0;32m    406\u001b[0m     \u001b[38;5;28mprint\u001b[39m(\u001b[38;5;124mf\u001b[39m\u001b[38;5;124m\"\u001b[39m\u001b[38;5;124mSe ha encontrado una solución en el tiempo \u001b[39m\u001b[38;5;132;01m{\u001b[39;00mm\u001b[38;5;241m.\u001b[39mRuntime\u001b[38;5;132;01m}\u001b[39;00m\u001b[38;5;124m segundos\u001b[39m\u001b[38;5;124m\"\u001b[39m)\n\u001b[1;32m--> 408\u001b[0m x_ \u001b[38;5;241m=\u001b[39m {(i, j, k): \u001b[38;5;28mround\u001b[39m(\u001b[43mx\u001b[49m\u001b[43m[\u001b[49m\u001b[43mi\u001b[49m\u001b[43m,\u001b[49m\u001b[43m \u001b[49m\u001b[43mj\u001b[49m\u001b[43m,\u001b[49m\u001b[43m \u001b[49m\u001b[43mk\u001b[49m\u001b[43m,\u001b[49m\u001b[43m \u001b[49m\u001b[43mt0\u001b[49m\u001b[43m \u001b[49m\u001b[38;5;241;43m+\u001b[39;49m\u001b[43m \u001b[49m\u001b[38;5;241;43m1\u001b[39;49m\u001b[43m]\u001b[49m\u001b[38;5;241;43m.\u001b[39;49m\u001b[43mx\u001b[49m) \u001b[38;5;28;01mfor\u001b[39;00m (i, j) \u001b[38;5;129;01min\u001b[39;00m A \u001b[38;5;28;01mfor\u001b[39;00m k \u001b[38;5;129;01min\u001b[39;00m K}\n\u001b[0;32m    409\u001b[0m q_ \u001b[38;5;241m=\u001b[39m {(i, k): q[(i, k, t0 \u001b[38;5;241m+\u001b[39m \u001b[38;5;241m1\u001b[39m)]\u001b[38;5;241m.\u001b[39mx \u001b[38;5;28;01mfor\u001b[39;00m i \u001b[38;5;129;01min\u001b[39;00m C \u001b[38;5;28;01mfor\u001b[39;00m k \u001b[38;5;129;01min\u001b[39;00m K}\n\u001b[0;32m    410\u001b[0m y_ \u001b[38;5;241m=\u001b[39m {(i, k): \u001b[38;5;28mround\u001b[39m(y[i, k, t0 \u001b[38;5;241m+\u001b[39m \u001b[38;5;241m1\u001b[39m]\u001b[38;5;241m.\u001b[39mx) \u001b[38;5;28;01mfor\u001b[39;00m i \u001b[38;5;129;01min\u001b[39;00m N \u001b[38;5;28;01mfor\u001b[39;00m k \u001b[38;5;129;01min\u001b[39;00m K}\n",
      "File \u001b[1;32msrc\\gurobipy\\var.pxi:125\u001b[0m, in \u001b[0;36mgurobipy.Var.__getattr__\u001b[1;34m()\u001b[0m\n",
      "File \u001b[1;32msrc\\gurobipy\\var.pxi:153\u001b[0m, in \u001b[0;36mgurobipy.Var.getAttr\u001b[1;34m()\u001b[0m\n",
      "File \u001b[1;32msrc\\gurobipy\\attrutil.pxi:100\u001b[0m, in \u001b[0;36mgurobipy.__getattr\u001b[1;34m()\u001b[0m\n",
      "\u001b[1;31mAttributeError\u001b[0m: Unable to retrieve attribute 'x'"
     ]
    }
   ],
   "source": [
    "datos_gurobi_sim = {}\n",
    "n = 10\n",
    "i = 'empty'\n",
    "dem = 'n'\n",
    "file_name = f'n{n}{i}.xlsx'\n",
    "output = f'plots//tablero_gurobi_n{n}_{i}_{dem}.png'\n",
    "G, ubis, cap_tpte, info_locales = crear_grafo_inicial(archivo= file_name ,plot=False)\n",
    "historia = simular_demanda_previa(G, dist = dem, T=1000, d=30)\n",
    "\n",
    "rutas_gurobi, perdidas_gurobi, inventarios_gurobi, costos_gurobi, dems_gurobi = simular_ejecucion_P_deterministico(grafo_inicial = G, dem_historico = historia, cap = cap_tpte,\n",
    "                                                                tipo_demanda = dem, T = 365, d=30)\n",
    "#solucion = simular_ejecucion_P_deterministico(grafo_inicial = G, dem_historico = historia, cap = cap_tpte,\n",
    "#                                                                tipo_demanda = dem, T = 365, d=30,\n",
    "#                                                               TEST = True)\n",
    "datos_gurobi_sim[f'n{n}_{i}_{dem}'] = {'rutas': rutas_gurobi, 'perdidas': perdidas_gurobi, 'inventarios': inventarios_gurobi,\n",
    "                                'costos': costos_gurobi, 'demanda': dems_gurobi}\n",
    "\n",
    "costos_consolidados = calcular_costo_consolidado(costos_gurobi, inventarios_gurobi)\n",
    "df_costos_gurobi = pd.concat([df_costos_gurobi, pd.DataFrame(costos_consolidados, index = [f'n{n}_{i}_{dem}'])])\n",
    "N = len(G.nodes())-1\n",
    "df = generar_df(rutas_gurobi, N)\n",
    "plotear_tablero_visitas(df, guardar = True, nombre = output)\n",
    "print (f'Listo {file_name} con demanda {dem}')\n",
    "\n",
    "df_costos_gurobi.to_csv('costos_gurobi.csv')\n",
    "json.dump(datos_gurobi_sim, open('datos_gurobi_sim.json', 'w'))"
   ]
  },
  {
   "cell_type": "code",
   "execution_count": 5,
   "metadata": {},
   "outputs": [
    {
     "data": {
      "text/plain": [
       "({('N_0', 'N_1', 1): 0,\n",
       "  ('N_0', 'N_2', 1): 0,\n",
       "  ('N_0', 'N_3', 1): 0,\n",
       "  ('N_0', 'N_4', 1): 1,\n",
       "  ('N_0', 'N_5', 1): 0,\n",
       "  ('N_0', 'N_6', 1): 0,\n",
       "  ('N_0', 'N_7', 1): 0,\n",
       "  ('N_0', 'N_8', 1): 0,\n",
       "  ('N_0', 'N_9', 1): 0,\n",
       "  ('N_0', 'N_10', 1): 0,\n",
       "  ('N_1', 'N_0', 1): 0,\n",
       "  ('N_1', 'N_2', 1): 0,\n",
       "  ('N_1', 'N_3', 1): 0,\n",
       "  ('N_1', 'N_4', 1): 0,\n",
       "  ('N_1', 'N_5', 1): 0,\n",
       "  ('N_1', 'N_6', 1): 0,\n",
       "  ('N_1', 'N_7', 1): 0,\n",
       "  ('N_1', 'N_8', 1): 0,\n",
       "  ('N_1', 'N_9', 1): 0,\n",
       "  ('N_1', 'N_10', 1): 0,\n",
       "  ('N_2', 'N_0', 1): 0,\n",
       "  ('N_2', 'N_1', 1): 0,\n",
       "  ('N_2', 'N_3', 1): 0,\n",
       "  ('N_2', 'N_4', 1): 0,\n",
       "  ('N_2', 'N_5', 1): 0,\n",
       "  ('N_2', 'N_6', 1): 0,\n",
       "  ('N_2', 'N_7', 1): 0,\n",
       "  ('N_2', 'N_8', 1): 0,\n",
       "  ('N_2', 'N_9', 1): 0,\n",
       "  ('N_2', 'N_10', 1): 0,\n",
       "  ('N_3', 'N_0', 1): 0,\n",
       "  ('N_3', 'N_1', 1): 0,\n",
       "  ('N_3', 'N_2', 1): 0,\n",
       "  ('N_3', 'N_4', 1): 0,\n",
       "  ('N_3', 'N_5', 1): 0,\n",
       "  ('N_3', 'N_6', 1): 0,\n",
       "  ('N_3', 'N_7', 1): 0,\n",
       "  ('N_3', 'N_8', 1): 0,\n",
       "  ('N_3', 'N_9', 1): 0,\n",
       "  ('N_3', 'N_10', 1): 0,\n",
       "  ('N_4', 'N_0', 1): 1,\n",
       "  ('N_4', 'N_1', 1): 0,\n",
       "  ('N_4', 'N_2', 1): 0,\n",
       "  ('N_4', 'N_3', 1): 0,\n",
       "  ('N_4', 'N_5', 1): 0,\n",
       "  ('N_4', 'N_6', 1): 0,\n",
       "  ('N_4', 'N_7', 1): 0,\n",
       "  ('N_4', 'N_8', 1): 0,\n",
       "  ('N_4', 'N_9', 1): 0,\n",
       "  ('N_4', 'N_10', 1): 0,\n",
       "  ('N_5', 'N_0', 1): 0,\n",
       "  ('N_5', 'N_1', 1): 0,\n",
       "  ('N_5', 'N_2', 1): 0,\n",
       "  ('N_5', 'N_3', 1): 0,\n",
       "  ('N_5', 'N_4', 1): 0,\n",
       "  ('N_5', 'N_6', 1): 0,\n",
       "  ('N_5', 'N_7', 1): 0,\n",
       "  ('N_5', 'N_8', 1): 0,\n",
       "  ('N_5', 'N_9', 1): 0,\n",
       "  ('N_5', 'N_10', 1): 0,\n",
       "  ('N_6', 'N_0', 1): 0,\n",
       "  ('N_6', 'N_1', 1): 0,\n",
       "  ('N_6', 'N_2', 1): 0,\n",
       "  ('N_6', 'N_3', 1): 0,\n",
       "  ('N_6', 'N_4', 1): 0,\n",
       "  ('N_6', 'N_5', 1): 0,\n",
       "  ('N_6', 'N_7', 1): 0,\n",
       "  ('N_6', 'N_8', 1): 0,\n",
       "  ('N_6', 'N_9', 1): 0,\n",
       "  ('N_6', 'N_10', 1): 0,\n",
       "  ('N_7', 'N_0', 1): 0,\n",
       "  ('N_7', 'N_1', 1): 0,\n",
       "  ('N_7', 'N_2', 1): 0,\n",
       "  ('N_7', 'N_3', 1): 0,\n",
       "  ('N_7', 'N_4', 1): 0,\n",
       "  ('N_7', 'N_5', 1): 0,\n",
       "  ('N_7', 'N_6', 1): 0,\n",
       "  ('N_7', 'N_8', 1): 0,\n",
       "  ('N_7', 'N_9', 1): 0,\n",
       "  ('N_7', 'N_10', 1): 0,\n",
       "  ('N_8', 'N_0', 1): 0,\n",
       "  ('N_8', 'N_1', 1): 0,\n",
       "  ('N_8', 'N_2', 1): 0,\n",
       "  ('N_8', 'N_3', 1): 0,\n",
       "  ('N_8', 'N_4', 1): 0,\n",
       "  ('N_8', 'N_5', 1): 0,\n",
       "  ('N_8', 'N_6', 1): 0,\n",
       "  ('N_8', 'N_7', 1): 0,\n",
       "  ('N_8', 'N_9', 1): 0,\n",
       "  ('N_8', 'N_10', 1): 0,\n",
       "  ('N_9', 'N_0', 1): 0,\n",
       "  ('N_9', 'N_1', 1): 0,\n",
       "  ('N_9', 'N_2', 1): 0,\n",
       "  ('N_9', 'N_3', 1): 0,\n",
       "  ('N_9', 'N_4', 1): 0,\n",
       "  ('N_9', 'N_5', 1): 0,\n",
       "  ('N_9', 'N_6', 1): 0,\n",
       "  ('N_9', 'N_7', 1): 0,\n",
       "  ('N_9', 'N_8', 1): 0,\n",
       "  ('N_9', 'N_10', 1): 0,\n",
       "  ('N_10', 'N_0', 1): 0,\n",
       "  ('N_10', 'N_1', 1): 0,\n",
       "  ('N_10', 'N_2', 1): 0,\n",
       "  ('N_10', 'N_3', 1): 0,\n",
       "  ('N_10', 'N_4', 1): 0,\n",
       "  ('N_10', 'N_5', 1): 0,\n",
       "  ('N_10', 'N_6', 1): 0,\n",
       "  ('N_10', 'N_7', 1): 0,\n",
       "  ('N_10', 'N_8', 1): 0,\n",
       "  ('N_10', 'N_9', 1): 0},\n",
       " {('N_1', 1): 0.0,\n",
       "  ('N_2', 1): 0.0,\n",
       "  ('N_3', 1): 0.0,\n",
       "  ('N_4', 1): 55.0,\n",
       "  ('N_5', 1): 0.0,\n",
       "  ('N_6', 1): 0.0,\n",
       "  ('N_7', 1): 0.0,\n",
       "  ('N_8', 1): 0.0,\n",
       "  ('N_9', 1): 0.0,\n",
       "  ('N_10', 1): 0.0},\n",
       " {('N_0', 1): 1,\n",
       "  ('N_1', 1): 0,\n",
       "  ('N_2', 1): 0,\n",
       "  ('N_3', 1): 0,\n",
       "  ('N_4', 1): 1,\n",
       "  ('N_5', 1): 0,\n",
       "  ('N_6', 1): 0,\n",
       "  ('N_7', 1): 0,\n",
       "  ('N_8', 1): 0,\n",
       "  ('N_9', 1): 0,\n",
       "  ('N_10', 1): 0},\n",
       " 0.0,\n",
       " {('N_1', 1): 1.0,\n",
       "  ('N_2', 1): 1.0,\n",
       "  ('N_3', 1): 1.0,\n",
       "  ('N_4', 1): 1.0,\n",
       "  ('N_5', 1): 1.0,\n",
       "  ('N_6', 1): 1.0,\n",
       "  ('N_7', 1): 1.0,\n",
       "  ('N_8', 1): 1.0,\n",
       "  ('N_9', 1): 1.0,\n",
       "  ('N_10', 1): 1.0})"
      ]
     },
     "execution_count": 5,
     "metadata": {},
     "output_type": "execute_result"
    }
   ],
   "source": [
    "# x decide para un arco, un vehículo y un día\n",
    "# q decide la cantidad a llevar???\n",
    "# y decide si se visita o no el nodo\n",
    "solucion # x q y m, y_pred"
   ]
  }
 ],
 "metadata": {
  "kernelspec": {
   "display_name": "Python 3",
   "language": "python",
   "name": "python3"
  },
  "language_info": {
   "codemirror_mode": {
    "name": "ipython",
    "version": 3
   },
   "file_extension": ".py",
   "mimetype": "text/x-python",
   "name": "python",
   "nbconvert_exporter": "python",
   "pygments_lexer": "ipython3",
   "version": "3.11.7"
  }
 },
 "nbformat": 4,
 "nbformat_minor": 2
}
