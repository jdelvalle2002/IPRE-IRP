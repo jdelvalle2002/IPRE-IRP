{
 "cells": [
  {
   "cell_type": "code",
   "execution_count": null,
   "metadata": {},
   "outputs": [],
   "source": [
    "import numpy as np\n",
    "from numpy import random as rd\n",
    "import time\n",
    "from solvers_listos import *\n",
    "from funciones import *"
   ]
  },
  {
   "cell_type": "code",
   "execution_count": 1,
   "metadata": {},
   "outputs": [
    {
     "name": "stdout",
     "output_type": "stream",
     "text": [
      "{0: 0, 1: 91, 2: 27, 3: 11, 4: 63, 5: 69, 6: 67, 7: 91, 8: 46, 9: 73, 10: 66}\n"
     ]
    }
   ],
   "source": [
    "%run politica_R.ipynb\n",
    "%run politica_P.ipynb\n",
    "# hay que ver qué onda este print"
   ]
  },
  {
   "cell_type": "code",
   "execution_count": 2,
   "metadata": {},
   "outputs": [],
   "source": [
    "G, ubis, cap_tpte, info_locales = crear_grafo_inicial(archivo= 'IRP1.xlsx' ,plot=False)\n",
    "historia = simular_demanda_previa(G, dist = 'n', T=1000) "
   ]
  },
  {
   "cell_type": "code",
   "execution_count": 3,
   "metadata": {},
   "outputs": [
    {
     "name": "stdout",
     "output_type": "stream",
     "text": [
      "Inventario inicial: \n",
      "N_0 1428\n",
      "N_1 87\n",
      "N_2 27\n",
      "N_3 20\n",
      "N_4 55\n",
      "N_5 142\n",
      "N_6 69\n",
      "N_7 158\n",
      "N_8 86\n",
      "N_9 77\n",
      "N_10 126\n",
      "\n",
      "\n",
      "Ruta 0:  ['N_0', 'N_6', 'N_0']\n",
      "Ruta 1:  ['N_0', 'N_4', 'N_9', 'N_2', 'N_1', 'N_3', 'N_6', 'N_8', 'N_0']\n",
      "Ruta 2:  ['N_0', 'N_10', 'N_2', 'N_7', 'N_5', 'N_0']\n",
      "Ruta 3:  ['N_0', 'N_4', 'N_9', 'N_1', 'N_6', 'N_8', 'N_0']\n",
      "Ruta 4:  ['N_0', 'N_4', 'N_9', 'N_2', 'N_1', 'N_3', 'N_7', 'N_5', 'N_0']\n",
      "Ruta 5:  ['N_0', 'N_10', 'N_9', 'N_2', 'N_1', 'N_6', 'N_0']\n",
      "Ruta 6:  ['N_0', 'N_4', 'N_5', 'N_8', 'N_6', 'N_2', 'N_0']\n",
      "Ruta 7:  ['N_0', 'N_9', 'N_2', 'N_1', 'N_3', 'N_7', 'N_6', 'N_0']\n",
      "Ruta 8:  ['N_0', 'N_4', 'N_10', 'N_9', 'N_1', 'N_8', 'N_0']\n",
      "Ruta 9:  ['N_0', 'N_2', 'N_7', 'N_6', 'N_5', 'N_0']\n",
      "Ruta 10:  ['N_0', 'N_4', 'N_9', 'N_2', 'N_1', 'N_3', 'N_6', 'N_8', 'N_0']\n",
      "Ruta 11:  ['N_0', 'N_4', 'N_10', 'N_9', 'N_2', 'N_1', 'N_7', 'N_5', 'N_0']\n",
      "Ruta 12:  ['N_0', 'N_4', 'N_9', 'N_2', 'N_1', 'N_6', 'N_0']\n",
      "Ruta 13:  ['N_0', 'N_5', 'N_8', 'N_6', 'N_3', 'N_0']\n",
      "Ruta 14:  ['N_0', 'N_4', 'N_10', 'N_9', 'N_2', 'N_1', 'N_7', 'N_0']\n",
      "Ruta 15:  ['N_0', 'N_2', 'N_3', 'N_6', 'N_5', 'N_0']\n",
      "Ruta 16:  ['N_0', 'N_4', 'N_9', 'N_2', 'N_1', 'N_7', 'N_6', 'N_8', 'N_0']\n",
      "Ruta 17:  ['N_0', 'N_10', 'N_1', 'N_3', 'N_6', 'N_5', 'N_0']\n",
      "Ruta 18:  ['N_0', 'N_4', 'N_9', 'N_2', 'N_1', 'N_0']\n",
      "Ruta 19:  ['N_0', 'N_4', 'N_2', 'N_6', 'N_8', 'N_7', 'N_0']\n",
      "Ruta 20:  ['N_0', 'N_4', 'N_10', 'N_9', 'N_1', 'N_3', 'N_6', 'N_5', 'N_0']\n",
      "Ruta 21:  ['N_0', 'N_4', 'N_2', 'N_7', 'N_8', 'N_0']\n",
      "Ruta 22:  ['N_0', 'N_9', 'N_1', 'N_3', 'N_6', 'N_0']\n",
      "Ruta 23:  ['N_0', 'N_4', 'N_10', 'N_9', 'N_2', 'N_1', 'N_8', 'N_5', 'N_0']\n",
      "Ruta 24:  ['N_0', 'N_4', 'N_2', 'N_3', 'N_7', 'N_6', 'N_0']\n",
      "Ruta 25:  ['N_0', 'N_10', 'N_9', 'N_2', 'N_1', 'N_5', 'N_0']\n",
      "Ruta 26:  ['N_0', 'N_4', 'N_3', 'N_7', 'N_6', 'N_8', 'N_0']\n",
      "Ruta 27:  ['N_0', 'N_10', 'N_9', 'N_2', 'N_1', 'N_0']\n",
      "Ruta 28:  ['N_0', 'N_4', 'N_5', 'N_8', 'N_6', 'N_7', 'N_3', 'N_1', 'N_0']\n",
      "Ruta 29:  ['N_0', 'N_4', 'N_10', 'N_9', 'N_2', 'N_1', 'N_0']\n",
      "Ruta 30:  ['N_0', 'N_2', 'N_6', 'N_8', 'N_7', 'N_0']\n",
      "Ruta 31:  ['N_0', 'N_4', 'N_9', 'N_1', 'N_3', 'N_6', 'N_5', 'N_0']\n",
      "Ruta 32:  ['N_0', 'N_10', 'N_2', 'N_9', 'N_0']\n",
      "Ruta 33:  ['N_0', 'N_4', 'N_9', 'N_2', 'N_1', 'N_7', 'N_6', 'N_8', 'N_5', 'N_0']\n",
      "Ruta 34:  ['N_0', 'N_4', 'N_9', 'N_1', 'N_3', 'N_0']\n",
      "Ruta 35:  ['N_0', 'N_4', 'N_10', 'N_2', 'N_6', 'N_8', 'N_0']\n",
      "Ruta 36:  ['N_0', 'N_4', 'N_9', 'N_2', 'N_1', 'N_3', 'N_7', 'N_5', 'N_0']\n",
      "Ruta 37:  ['N_0', 'N_4', 'N_1', 'N_6', 'N_8', 'N_0']\n",
      "Ruta 38:  ['N_0', 'N_10', 'N_9', 'N_2', 'N_6', 'N_5', 'N_0']\n",
      "Ruta 39:  ['N_0', 'N_4', 'N_9', 'N_2', 'N_1', 'N_3', 'N_7', 'N_8', 'N_0']\n",
      "Ruta 40:  ['N_0', 'N_2', 'N_6', 'N_0']\n",
      "Ruta 41:  ['N_0', 'N_4', 'N_10', 'N_9', 'N_1', 'N_7', 'N_6', 'N_5', 'N_0']\n",
      "Ruta 42:  ['N_0', 'N_4', 'N_2', 'N_1', 'N_3', 'N_8', 'N_0']\n",
      "Ruta 43:  ['N_0', 'N_4', 'N_10', 'N_9', 'N_6', 'N_5', 'N_0']\n",
      "Ruta 44:  ['N_0', 'N_2', 'N_1', 'N_7', 'N_6', 'N_8', 'N_0']\n",
      "Ruta 45:  ['N_0', 'N_4', 'N_9', 'N_1', 'N_3', 'N_6', 'N_5', 'N_0']\n",
      "Ruta 46:  ['N_0', 'N_10', 'N_2', 'N_6', 'N_7', 'N_0']\n",
      "Ruta 47:  ['N_0', 'N_4', 'N_9', 'N_2', 'N_1', 'N_8', 'N_0']\n",
      "Ruta 48:  ['N_0', 'N_4', 'N_10', 'N_5', 'N_6', 'N_7', 'N_3', 'N_0']\n",
      "Ruta 49:  ['N_0', 'N_9', 'N_2', 'N_1', 'N_6', 'N_0']\n",
      "Ruta 50:  ['N_0', 'N_4', 'N_9', 'N_10', 'N_5', 'N_8', 'N_0']\n",
      "Ruta 51:  ['N_0', 'N_9', 'N_2', 'N_1', 'N_3', 'N_7', 'N_6', 'N_0']\n",
      "Ruta 52:  ['N_0', 'N_4', 'N_9', 'N_2', 'N_10', 'N_5', 'N_8', 'N_0']\n",
      "Ruta 53:  ['N_0', 'N_4', 'N_2', 'N_1', 'N_3', 'N_7', 'N_6', 'N_0']\n",
      "Ruta 54:  ['N_0', 'N_9', 'N_2', 'N_10', 'N_5', 'N_0']\n",
      "Ruta 55:  ['N_0', 'N_4', 'N_2', 'N_1', 'N_6', 'N_8', 'N_0']\n",
      "Ruta 56:  ['N_0', 'N_10', 'N_9', 'N_1', 'N_3', 'N_7', 'N_5', 'N_0']\n",
      "Ruta 57:  ['N_0', 'N_4', 'N_2', 'N_6', 'N_8', 'N_0']\n",
      "Ruta 58:  ['N_0', 'N_4', 'N_10', 'N_9', 'N_1', 'N_0']\n",
      "Ruta 59:  ['N_0', 'N_4', 'N_9', 'N_2', 'N_1', 'N_3', 'N_7', 'N_6', 'N_8', 'N_5', 'N_0']\n",
      "\n",
      "\n",
      "Inventario final: \n",
      "N_0 -33234.30300829926\n",
      "N_1 81.6267164965197\n",
      "N_2 29.149772366491913\n",
      "N_3 19.568350995151143\n",
      "N_4 52.68002194425005\n",
      "N_5 147.7797585048176\n",
      "N_6 66.82533886880208\n",
      "N_7 158.47034760465897\n",
      "N_8 88.58288800302991\n",
      "N_9 73.74032047237608\n",
      "N_10 72.39752197753558\n",
      "Demanda perdida total: 2670.726891774125 | Demanda perdida promedio: 44.51211486290208\n"
     ]
    }
   ],
   "source": [
    "rutas_R, perdidas_R, inventarios_R = simular_ejecucion_R(grafo_inicial = G, T = 60)"
   ]
  },
  {
   "cell_type": "code",
   "execution_count": 6,
   "metadata": {},
   "outputs": [
    {
     "name": "stdout",
     "output_type": "stream",
     "text": [
      "F = 5, Demanda perdida total: 12603.256328435977 | Demanda perdida promedio: 210.0542721405996\n"
     ]
    }
   ],
   "source": [
    "rutas_P, perdidas_P, inventarios_P = simular_ejecucion_P_LS(grafo_inicial = G, dem_historico= historia, T = 60, F = 5, cap = 871)"
   ]
  },
  {
   "cell_type": "code",
   "execution_count": null,
   "metadata": {},
   "outputs": [],
   "source": [
    "mis_rutas\n",
    "mis_rutas_t = {t : str(mis_rutas[t]) for t in mis_rutas.keys()}\n",
    "df_rutas = pd.DataFrame.from_dict(mis_rutas_t, orient='index', columns=['Ruta'])\n",
    "df_rutas.value_counts()\n",
    "\n",
    "\n",
    "\n",
    "N = len(G.nodes())-1\n",
    "df = generar_df(mis_rutas, N)\n",
    "df['sum'] = df.sum(axis=1)\n"
   ]
  },
  {
   "cell_type": "code",
   "execution_count": null,
   "metadata": {},
   "outputs": [],
   "source": [
    "df_nodos = pd.DataFrame.from_dict(dict(G.nodes(data=True)), orient='index')\n",
    "df_nodos = df_nodos.iloc[1:]\n",
    "df_nodos['frec'] = (df.describe()).T['mean']\n",
    "dem_historico_media = {nodo: np.mean(historia[nodo]) for nodo in historia.keys()}\n",
    "df_nodos['dem_mean'] = dem_historico_media.values()\n",
    "df_nodos"
   ]
  },
  {
   "cell_type": "code",
   "execution_count": null,
   "metadata": {},
   "outputs": [],
   "source": [
    "plt.figure(figsize=(21, 7))\n",
    "plt.plot(df['sum'], '-', color='black')\n",
    "plt.xlabel('Días')\n",
    "plt.ylabel('Locales visitados')\n",
    "plt.title('Locales visitados por día')\n",
    "plt.show()"
   ]
  },
  {
   "cell_type": "code",
   "execution_count": null,
   "metadata": {},
   "outputs": [],
   "source": [
    "plotear_tablero_visitas(df, guardar = True, nombre = 'plots//tablero_PRO_n30_orig.png')"
   ]
  },
  {
   "cell_type": "code",
   "execution_count": null,
   "metadata": {},
   "outputs": [],
   "source": [
    "cantidad_06 = len(df_nodos[df_nodos['frec'] >= 0.5])\n",
    "cantidad_04 = len(df_nodos[df_nodos['frec'] < 0.5])\n",
    "\n",
    "print (f'Locales visitados más de 50% de los días: {cantidad_06}, que corresponde a un {cantidad_06/N*100}%')\n",
    "print (f'Locales visitados menos de 50% de los días: {cantidad_04}, que corresponde a un {cantidad_04/N*100}%')"
   ]
  },
  {
   "cell_type": "code",
   "execution_count": null,
   "metadata": {},
   "outputs": [],
   "source": [
    "datos = dispersion_intervalos(df)\n",
    "        \n",
    "df_nodos['mean'] = datos['mean']\n",
    "df_nodos['std'] = datos['std']\n",
    "df_nodos['porcentaje demanda'] = df_nodos['dem_mean'] / df_nodos['Up']\n",
    "df_nodos['porcentaje dem. inicial'] = df_nodos['Prod'] / df_nodos['Up']\n",
    "df_nodos_corr = df_nodos[['Inv','Up','Low','Prod','h','frec','mean','std','dem_mean','porcentaje demanda','porcentaje dem. inicial']]\n",
    "df_nodos"
   ]
  },
  {
   "cell_type": "code",
   "execution_count": null,
   "metadata": {},
   "outputs": [],
   "source": [
    "df_nodos_corr.corr()"
   ]
  }
 ],
 "metadata": {
  "kernelspec": {
   "display_name": "Python 3",
   "language": "python",
   "name": "python3"
  },
  "language_info": {
   "codemirror_mode": {
    "name": "ipython",
    "version": 3
   },
   "file_extension": ".py",
   "mimetype": "text/x-python",
   "name": "python",
   "nbconvert_exporter": "python",
   "pygments_lexer": "ipython3",
   "version": "3.11.6"
  }
 },
 "nbformat": 4,
 "nbformat_minor": 2
}
