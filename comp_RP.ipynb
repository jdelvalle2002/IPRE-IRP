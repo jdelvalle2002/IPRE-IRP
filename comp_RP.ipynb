{
 "cells": [
  {
   "cell_type": "code",
   "execution_count": 8,
   "metadata": {},
   "outputs": [],
   "source": [
    "import numpy as np\n",
    "from numpy import random as rd\n",
    "import time\n",
    "from solvers_listos import *\n",
    "from funciones import *"
   ]
  },
  {
   "cell_type": "code",
   "execution_count": 9,
   "metadata": {},
   "outputs": [],
   "source": [
    "%run politica_R.ipynb\n",
    "%run politica_P.ipynb\n",
    "# hay que ver qué onda este print"
   ]
  },
  {
   "cell_type": "code",
   "execution_count": null,
   "metadata": {},
   "outputs": [],
   "source": [
    "G, ubis, cap_tpte, info_locales = crear_grafo_inicial(archivo= 'IRP1.xlsx' ,plot=True)\n",
    "historia = simular_demanda_previa(G, dist = 'n', T=1000) "
   ]
  },
  {
   "cell_type": "code",
   "execution_count": null,
   "metadata": {},
   "outputs": [],
   "source": [
    "rutas_R, perdidas_R, inventarios_R = simular_ejecucion_R(grafo_inicial = G, dem_historico = historia, capacidad = cap_tpte, T = 60)"
   ]
  },
  {
   "cell_type": "code",
   "execution_count": null,
   "metadata": {},
   "outputs": [],
   "source": [
    "rutas_P, perdidas_P, inventarios_P = simular_ejecucion_P_LS(grafo_inicial = G, dem_historico= historia, T = 60, F = 10, cap = 871)"
   ]
  },
  {
   "cell_type": "code",
   "execution_count": null,
   "metadata": {},
   "outputs": [],
   "source": [
    "mis_rutas\n",
    "mis_rutas_t = {t : str(mis_rutas[t]) for t in mis_rutas.keys()}\n",
    "df_rutas = pd.DataFrame.from_dict(mis_rutas_t, orient='index', columns=['Ruta'])\n",
    "df_rutas.value_counts()\n",
    "\n",
    "\n",
    "\n",
    "N = len(G.nodes())-1\n",
    "df = generar_df(mis_rutas, N)\n",
    "df['sum'] = df.sum(axis=1)\n"
   ]
  },
  {
   "cell_type": "code",
   "execution_count": null,
   "metadata": {},
   "outputs": [],
   "source": [
    "df_nodos = pd.DataFrame.from_dict(dict(G.nodes(data=True)), orient='index')\n",
    "df_nodos = df_nodos.iloc[1:]\n",
    "df_nodos['frec'] = (df.describe()).T['mean']\n",
    "dem_historico_media = {nodo: np.mean(historia[nodo]) for nodo in historia.keys()}\n",
    "df_nodos['dem_mean'] = dem_historico_media.values()\n",
    "df_nodos"
   ]
  },
  {
   "cell_type": "code",
   "execution_count": null,
   "metadata": {},
   "outputs": [],
   "source": [
    "plt.figure(figsize=(21, 7))\n",
    "plt.plot(df['sum'], '-', color='black')\n",
    "plt.xlabel('Días')\n",
    "plt.ylabel('Locales visitados')\n",
    "plt.title('Locales visitados por día')\n",
    "plt.show()"
   ]
  },
  {
   "cell_type": "code",
   "execution_count": null,
   "metadata": {},
   "outputs": [],
   "source": [
    "plotear_tablero_visitas(df, guardar = True, nombre = 'plots//tablero_PRO_n30_orig.png')"
   ]
  },
  {
   "cell_type": "code",
   "execution_count": null,
   "metadata": {},
   "outputs": [],
   "source": [
    "cantidad_06 = len(df_nodos[df_nodos['frec'] >= 0.5])\n",
    "cantidad_04 = len(df_nodos[df_nodos['frec'] < 0.5])\n",
    "\n",
    "print (f'Locales visitados más de 50% de los días: {cantidad_06}, que corresponde a un {cantidad_06/N*100}%')\n",
    "print (f'Locales visitados menos de 50% de los días: {cantidad_04}, que corresponde a un {cantidad_04/N*100}%')"
   ]
  },
  {
   "cell_type": "code",
   "execution_count": null,
   "metadata": {},
   "outputs": [],
   "source": [
    "datos = dispersion_intervalos(df)\n",
    "        \n",
    "df_nodos['mean'] = datos['mean']\n",
    "df_nodos['std'] = datos['std']\n",
    "df_nodos['porcentaje demanda'] = df_nodos['dem_mean'] / df_nodos['Up']\n",
    "df_nodos['porcentaje dem. inicial'] = df_nodos['Prod'] / df_nodos['Up']\n",
    "df_nodos_corr = df_nodos[['Inv','Up','Low','Prod','h','frec','mean','std','dem_mean','porcentaje demanda','porcentaje dem. inicial']]\n",
    "df_nodos"
   ]
  },
  {
   "cell_type": "code",
   "execution_count": null,
   "metadata": {},
   "outputs": [],
   "source": [
    "df_nodos_corr.corr()"
   ]
  },
  {
   "cell_type": "code",
   "execution_count": 11,
   "metadata": {},
   "outputs": [
    {
     "name": "stdout",
     "output_type": "stream",
     "text": [
      "Inventario inicial: \n",
      "N_0 1428\n",
      "N_1 0\n",
      "N_2 0\n",
      "N_3 0\n",
      "N_4 0\n",
      "N_5 0\n",
      "N_6 0\n",
      "N_7 0\n",
      "N_8 0\n",
      "N_9 0\n",
      "N_10 0\n",
      "\n",
      "\n"
     ]
    },
    {
     "ename": "TypeError",
     "evalue": "generar_ruta() got an unexpected keyword argument 'cap'",
     "output_type": "error",
     "traceback": [
      "\u001b[1;31m---------------------------------------------------------------------------\u001b[0m",
      "\u001b[1;31mTypeError\u001b[0m                                 Traceback (most recent call last)",
      "Input \u001b[1;32mIn [11]\u001b[0m, in \u001b[0;36m<cell line: 4>\u001b[1;34m()\u001b[0m\n\u001b[0;32m      8\u001b[0m G, ubis, cap_tpte, info_locales \u001b[38;5;241m=\u001b[39m crear_grafo_inicial(archivo\u001b[38;5;241m=\u001b[39m file_name ,plot\u001b[38;5;241m=\u001b[39m\u001b[38;5;28;01mFalse\u001b[39;00m)\n\u001b[0;32m      9\u001b[0m historia \u001b[38;5;241m=\u001b[39m simular_demanda_previa(G, dist \u001b[38;5;241m=\u001b[39m \u001b[38;5;124m'\u001b[39m\u001b[38;5;124mn\u001b[39m\u001b[38;5;124m'\u001b[39m, T\u001b[38;5;241m=\u001b[39m\u001b[38;5;241m1000\u001b[39m)\n\u001b[1;32m---> 10\u001b[0m rutas_R, perdidas_R, inventarios_R \u001b[38;5;241m=\u001b[39m \u001b[43msimular_ejecucion_R\u001b[49m\u001b[43m(\u001b[49m\u001b[43mgrafo_inicial\u001b[49m\u001b[43m \u001b[49m\u001b[38;5;241;43m=\u001b[39;49m\u001b[43m \u001b[49m\u001b[43mG\u001b[49m\u001b[43m,\u001b[49m\u001b[43m \u001b[49m\u001b[43mT\u001b[49m\u001b[43m \u001b[49m\u001b[38;5;241;43m=\u001b[39;49m\u001b[43m \u001b[49m\u001b[38;5;241;43m365\u001b[39;49m\u001b[43m,\u001b[49m\u001b[43m \u001b[49m\u001b[43mdem_historico\u001b[49m\u001b[43m \u001b[49m\u001b[38;5;241;43m=\u001b[39;49m\u001b[43m \u001b[49m\u001b[43mhistoria\u001b[49m\u001b[43m,\u001b[49m\u001b[43m \u001b[49m\u001b[43mcapacidad\u001b[49m\u001b[43m \u001b[49m\u001b[38;5;241;43m=\u001b[39;49m\u001b[43m \u001b[49m\u001b[43mcap_tpte\u001b[49m\u001b[43m)\u001b[49m\n\u001b[0;32m     11\u001b[0m datos_R[\u001b[38;5;124mf\u001b[39m\u001b[38;5;124m'\u001b[39m\u001b[38;5;124mn\u001b[39m\u001b[38;5;132;01m{\u001b[39;00mn\u001b[38;5;132;01m}\u001b[39;00m\u001b[38;5;132;01m{\u001b[39;00mi\u001b[38;5;132;01m}\u001b[39;00m\u001b[38;5;124m'\u001b[39m] \u001b[38;5;241m=\u001b[39m {\u001b[38;5;124m'\u001b[39m\u001b[38;5;124mrutas\u001b[39m\u001b[38;5;124m'\u001b[39m: rutas_R, \u001b[38;5;124m'\u001b[39m\u001b[38;5;124mperdidas\u001b[39m\u001b[38;5;124m'\u001b[39m: perdidas_R, \u001b[38;5;124m'\u001b[39m\u001b[38;5;124minventarios\u001b[39m\u001b[38;5;124m'\u001b[39m: inventarios_R}\n\u001b[0;32m     12\u001b[0m N \u001b[38;5;241m=\u001b[39m \u001b[38;5;28mlen\u001b[39m(G\u001b[38;5;241m.\u001b[39mnodes())\u001b[38;5;241m-\u001b[39m\u001b[38;5;241m1\u001b[39m\n",
      "File \u001b[1;32m~\\AppData\\Local\\Temp\\ipykernel_15800\\1332929384.py:34\u001b[0m, in \u001b[0;36msimular_ejecucion_R\u001b[1;34m(grafo_inicial, dem_historico, capacidad, T)\u001b[0m\n\u001b[0;32m     31\u001b[0m     rutas[t] \u001b[38;5;241m=\u001b[39m []\n\u001b[0;32m     33\u001b[0m \u001b[38;5;28;01melse\u001b[39;00m:    \n\u001b[1;32m---> 34\u001b[0m     ruta_R, largo_ruta_R \u001b[38;5;241m=\u001b[39m \u001b[43mgenerar_ruta\u001b[49m\u001b[43m(\u001b[49m\u001b[43mG0\u001b[49m\u001b[43m,\u001b[49m\u001b[43m \u001b[49m\u001b[43mmatriz_dst\u001b[49m\u001b[43m,\u001b[49m\u001b[43m \u001b[49m\u001b[43mvisitas_reaccion\u001b[49m\u001b[43m,\u001b[49m\u001b[43m \u001b[49m\u001b[43mcap\u001b[49m\u001b[43m \u001b[49m\u001b[38;5;241;43m=\u001b[39;49m\u001b[43m \u001b[49m\u001b[43mnp\u001b[49m\u001b[38;5;241;43m.\u001b[39;49m\u001b[43minf\u001b[49m\u001b[43m)\u001b[49m \u001b[38;5;66;03m#devuelve la ruta a realizar\u001b[39;00m\n\u001b[0;32m     35\u001b[0m     rutas[t] \u001b[38;5;241m=\u001b[39m ruta_R\n\u001b[0;32m     36\u001b[0m     \u001b[38;5;28mprint\u001b[39m(\u001b[38;5;124mf\u001b[39m\u001b[38;5;124m\"\u001b[39m\u001b[38;5;124mRuta \u001b[39m\u001b[38;5;132;01m{\u001b[39;00mt\u001b[38;5;132;01m}\u001b[39;00m\u001b[38;5;124m: \u001b[39m\u001b[38;5;124m\"\u001b[39m, ruta_R )\n",
      "\u001b[1;31mTypeError\u001b[0m: generar_ruta() got an unexpected keyword argument 'cap'"
     ]
    }
   ],
   "source": [
    "n_s = [10,20,30]\n",
    "inicial = ['empty', 'estandar', 'full']\n",
    "datos_R = {}\n",
    "for n in n_s:\n",
    "    for i in inicial:\n",
    "        file_name = f'n{n}{i}.xlsx'\n",
    "        output = f'plots//tablero_n{n}_{i}.png'\n",
    "        G, ubis, cap_tpte, info_locales = crear_grafo_inicial(archivo= file_name ,plot=False)\n",
    "        historia = simular_demanda_previa(G, dist = 'n', T=1000)\n",
    "        rutas_R, perdidas_R, inventarios_R = simular_ejecucion_R(grafo_inicial = G, T = 365, dem_historico = historia, capacidad = cap_tpte)\n",
    "        datos_R[f'n{n}{i}'] = {'rutas': rutas_R, 'perdidas': perdidas_R, 'inventarios': inventarios_R}\n",
    "        N = len(G.nodes())-1\n",
    "        df = generar_df(rutas_R, N)\n",
    "        plotear_tablero_visitas(df, guardar = True, nombre = output)\n",
    "        print (f'Listo {file_name}')\n",
    "\n",
    "\n",
    "\n",
    "        "
   ]
  },
  {
   "cell_type": "code",
   "execution_count": null,
   "metadata": {},
   "outputs": [],
   "source": [
    "datos_R"
   ]
  },
  {
   "cell_type": "code",
   "execution_count": null,
   "metadata": {},
   "outputs": [],
   "source": [
    "datos_P = {}\n",
    "for n in n_s:\n",
    "    for i in inicial:\n",
    "        file_name = f'n{n}{i}.xlsx'\n",
    "        output = f'plots//tablero_PRO_n{n}_{i}.png'\n",
    "        G, ubis, cap_tpte, info_locales = crear_grafo_inicial(archivo= file_name ,plot=False)\n",
    "        historia = simular_demanda_previa(G, dist = 'n', T=1000)\n",
    "        rutas_P, perdidas_P, inventarios_P = simular_ejecucion_P_LS(grafo_inicial = G, dem_historico= historia, T = 365, F = 10, cap = cap_tpte)\n",
    "        datos_P[f'n{n}{i}'] = {'rutas': rutas_P, 'perdidas': perdidas_P, 'inventarios': inventarios_P}\n",
    "        N = len(G.nodes())-1\n",
    "        df = generar_df(rutas_P, N)\n",
    "        plotear_tablero_visitas(df, guardar = True, nombre = output)\n",
    "        print (f'Listo {file_name}')\n"
   ]
  },
  {
   "cell_type": "code",
   "execution_count": null,
   "metadata": {},
   "outputs": [],
   "source": [
    "datos_P"
   ]
  }
 ],
 "metadata": {
  "kernelspec": {
   "display_name": "Python 3",
   "language": "python",
   "name": "python3"
  },
  "language_info": {
   "codemirror_mode": {
    "name": "ipython",
    "version": 3
   },
   "file_extension": ".py",
   "mimetype": "text/x-python",
   "name": "python",
   "nbconvert_exporter": "python",
   "pygments_lexer": "ipython3",
   "version": "3.10.6"
  }
 },
 "nbformat": 4,
 "nbformat_minor": 2
}
