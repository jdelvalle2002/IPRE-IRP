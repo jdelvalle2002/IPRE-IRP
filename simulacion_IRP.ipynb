{
 "cells": [
  {
   "cell_type": "code",
   "execution_count": 1,
   "metadata": {},
   "outputs": [
    {
     "data": {
      "text/plain": [
       "<Figure size 360x360 with 0 Axes>"
      ]
     },
     "metadata": {},
     "output_type": "display_data"
    }
   ],
   "source": [
    "import numpy as np\n",
    "import pandas as pd\n",
    "import networkx as nx\n",
    "import osmnx as ox\n",
    "import math\n",
    "import pandas as pd\n",
    "import random\n",
    "from matplotlib import pyplot as plt\n",
    "import numpy as np\n",
    " \n",
    "from funciones import read_data, calcular_distancia, calcular_matriz_dist, calcular_largo_ruta, graficar_ruta\n",
    "from instancia import ubis, cap_tpte, info_locales\n",
    "from instancia import G, color_nodos, color_arcos, ancho_edges\n",
    "\n",
    "random.seed(42)\n",
    "np.random.seed(42)"
   ]
  },
  {
   "cell_type": "code",
   "execution_count": 2,
   "metadata": {},
   "outputs": [
    {
     "data": {
      "text/html": [
       "<div>\n",
       "<style scoped>\n",
       "    .dataframe tbody tr th:only-of-type {\n",
       "        vertical-align: middle;\n",
       "    }\n",
       "\n",
       "    .dataframe tbody tr th {\n",
       "        vertical-align: top;\n",
       "    }\n",
       "\n",
       "    .dataframe thead th {\n",
       "        text-align: right;\n",
       "    }\n",
       "</style>\n",
       "<table border=\"1\" class=\"dataframe\">\n",
       "  <thead>\n",
       "    <tr style=\"text-align: right;\">\n",
       "      <th></th>\n",
       "      <th>i</th>\n",
       "      <th>X</th>\n",
       "      <th>Y</th>\n",
       "      <th>I</th>\n",
       "      <th>U</th>\n",
       "      <th>L</th>\n",
       "      <th>r</th>\n",
       "      <th>h</th>\n",
       "    </tr>\n",
       "  </thead>\n",
       "  <tbody>\n",
       "    <tr>\n",
       "      <th>0</th>\n",
       "      <td>0</td>\n",
       "      <td>444</td>\n",
       "      <td>237</td>\n",
       "      <td>1428</td>\n",
       "      <td>100000</td>\n",
       "      <td>0</td>\n",
       "      <td>-581</td>\n",
       "      <td>0.30</td>\n",
       "    </tr>\n",
       "    <tr>\n",
       "      <th>1</th>\n",
       "      <td>1</td>\n",
       "      <td>152</td>\n",
       "      <td>180</td>\n",
       "      <td>87</td>\n",
       "      <td>174</td>\n",
       "      <td>0</td>\n",
       "      <td>87</td>\n",
       "      <td>0.23</td>\n",
       "    </tr>\n",
       "    <tr>\n",
       "      <th>2</th>\n",
       "      <td>2</td>\n",
       "      <td>230</td>\n",
       "      <td>141</td>\n",
       "      <td>27</td>\n",
       "      <td>54</td>\n",
       "      <td>0</td>\n",
       "      <td>27</td>\n",
       "      <td>0.32</td>\n",
       "    </tr>\n",
       "    <tr>\n",
       "      <th>3</th>\n",
       "      <td>3</td>\n",
       "      <td>134</td>\n",
       "      <td>163</td>\n",
       "      <td>20</td>\n",
       "      <td>30</td>\n",
       "      <td>0</td>\n",
       "      <td>10</td>\n",
       "      <td>0.33</td>\n",
       "    </tr>\n",
       "    <tr>\n",
       "      <th>4</th>\n",
       "      <td>4</td>\n",
       "      <td>459</td>\n",
       "      <td>282</td>\n",
       "      <td>55</td>\n",
       "      <td>110</td>\n",
       "      <td>0</td>\n",
       "      <td>55</td>\n",
       "      <td>0.23</td>\n",
       "    </tr>\n",
       "    <tr>\n",
       "      <th>5</th>\n",
       "      <td>5</td>\n",
       "      <td>269</td>\n",
       "      <td>455</td>\n",
       "      <td>142</td>\n",
       "      <td>213</td>\n",
       "      <td>0</td>\n",
       "      <td>71</td>\n",
       "      <td>0.18</td>\n",
       "    </tr>\n",
       "    <tr>\n",
       "      <th>6</th>\n",
       "      <td>6</td>\n",
       "      <td>79</td>\n",
       "      <td>326</td>\n",
       "      <td>69</td>\n",
       "      <td>138</td>\n",
       "      <td>0</td>\n",
       "      <td>69</td>\n",
       "      <td>0.29</td>\n",
       "    </tr>\n",
       "    <tr>\n",
       "      <th>7</th>\n",
       "      <td>7</td>\n",
       "      <td>5</td>\n",
       "      <td>235</td>\n",
       "      <td>158</td>\n",
       "      <td>237</td>\n",
       "      <td>0</td>\n",
       "      <td>79</td>\n",
       "      <td>0.42</td>\n",
       "    </tr>\n",
       "    <tr>\n",
       "      <th>8</th>\n",
       "      <td>8</td>\n",
       "      <td>51</td>\n",
       "      <td>412</td>\n",
       "      <td>86</td>\n",
       "      <td>129</td>\n",
       "      <td>0</td>\n",
       "      <td>43</td>\n",
       "      <td>0.42</td>\n",
       "    </tr>\n",
       "    <tr>\n",
       "      <th>9</th>\n",
       "      <td>9</td>\n",
       "      <td>310</td>\n",
       "      <td>113</td>\n",
       "      <td>77</td>\n",
       "      <td>154</td>\n",
       "      <td>0</td>\n",
       "      <td>77</td>\n",
       "      <td>0.24</td>\n",
       "    </tr>\n",
       "    <tr>\n",
       "      <th>10</th>\n",
       "      <td>10</td>\n",
       "      <td>312</td>\n",
       "      <td>266</td>\n",
       "      <td>126</td>\n",
       "      <td>189</td>\n",
       "      <td>0</td>\n",
       "      <td>63</td>\n",
       "      <td>0.43</td>\n",
       "    </tr>\n",
       "  </tbody>\n",
       "</table>\n",
       "</div>"
      ],
      "text/plain": [
       "     i    X    Y     I       U  L    r     h\n",
       "0    0  444  237  1428  100000  0 -581  0.30\n",
       "1    1  152  180    87     174  0   87  0.23\n",
       "2    2  230  141    27      54  0   27  0.32\n",
       "3    3  134  163    20      30  0   10  0.33\n",
       "4    4  459  282    55     110  0   55  0.23\n",
       "5    5  269  455   142     213  0   71  0.18\n",
       "6    6   79  326    69     138  0   69  0.29\n",
       "7    7    5  235   158     237  0   79  0.42\n",
       "8    8   51  412    86     129  0   43  0.42\n",
       "9    9  310  113    77     154  0   77  0.24\n",
       "10  10  312  266   126     189  0   63  0.43"
      ]
     },
     "execution_count": 2,
     "metadata": {},
     "output_type": "execute_result"
    }
   ],
   "source": [
    "info_locales"
   ]
  },
  {
   "cell_type": "code",
   "execution_count": 3,
   "metadata": {},
   "outputs": [
    {
     "name": "stdout",
     "output_type": "stream",
     "text": [
      "N_1 :  50.0 % False\n",
      "N_2 :  50.0 % False\n",
      "N_3 :  66.66666666666667 % False\n",
      "N_4 :  50.0 % False\n",
      "N_5 :  66.66666666666667 % False\n",
      "N_6 :  50.0 % False\n",
      "N_7 :  66.66666666666667 % False\n",
      "N_8 :  66.66666666666667 % False\n",
      "N_9 :  50.0 % False\n",
      "N_10 :  66.66666666666667 % False\n",
      "\n"
     ]
    }
   ],
   "source": [
    "def reaccionar_inventario(G, tolerancia):\n",
    "    \"\"\"\n",
    "    Función que verifica que locales deben ser visitados en base a su inventario actual. \n",
    "    En caso de que el inventario se encuentre bajo el umbral de tolerancia, se retorna True.\n",
    "    \"\"\"\n",
    "    visitas = {nodo : False for nodo in G.nodes()}\n",
    "\n",
    "    for nodo in G.nodes(data=True):\n",
    "    \n",
    "        if nodo[1]['Inv'] <= tolerancia * nodo[1]['Up']:\n",
    "            visitas[nodo[0]] = True\n",
    "    \n",
    "    return visitas\n",
    "\n",
    "\n",
    "visitas = reaccionar_inventario(G, 0.3)\n",
    "for nodo in G.nodes(data=True):\n",
    "    if nodo[0] != 'N_0':\n",
    "        print(nodo[0], \": \", 100*nodo[1]['Inv']/nodo[1]['Up'], \"%\", visitas[nodo[0]])\n",
    "\n",
    "# print(G.nodes(data=True))\n",
    "print()\n",
    "        "
   ]
  },
  {
   "cell_type": "code",
   "execution_count": 4,
   "metadata": {},
   "outputs": [],
   "source": [
    "def IC_nrm(mu, sd, M=1000, alfa = 0.95):\n",
    "    \"\"\"\n",
    "    Función que calcula el intervalo de confianza para una distribución normal.\n",
    "    \"\"\"\n",
    "    from scipy.stats import norm\n",
    "    limite_inferior = mu + norm.ppf((1 - alfa) / 2) * sd / math.sqrt(M)\n",
    "    limite_superior = mu - norm.ppf((1 - alfa) / 2) * sd / math.sqrt(M)\n",
    "    \n",
    "    return limite_inferior, limite_superior"
   ]
  },
  {
   "cell_type": "code",
   "execution_count": 5,
   "metadata": {},
   "outputs": [
    {
     "data": {
      "text/plain": [
       "(9.876040993539087, 10.123959006460913)"
      ]
     },
     "execution_count": 5,
     "metadata": {},
     "output_type": "execute_result"
    }
   ],
   "source": [
    "IC_nrm(10, 2, alfa = 0.95)"
   ]
  },
  {
   "cell_type": "code",
   "execution_count": 6,
   "metadata": {},
   "outputs": [],
   "source": [
    "def pronosticar_inventario(G, tolerancia, dist = 'n', mu = 0, sigma = 0.1, M = 1000):\n",
    "    \"\"\"\n",
    "    Función que verifica que locales deben ser visitados en base a su inventario. \n",
    "    En caso de que el inventario se encuentre bajo el umbral de tolerancia, se retorna True.\n",
    "    \"\"\"\n",
    "    visitas = {nodo : False for nodo in G.nodes()}\n",
    "\n",
    "    for nodo in G.nodes(data=True):\n",
    "        mean = nodo[1]['Prod'] + mu\n",
    "        sd = nodo[1]['Prod'] * sigma\n",
    "        l_inf, l_sup = IC_nrm(mean, sd, alfa = 0.95)\n",
    "        pronostico = l_inf\n",
    "        if nodo[1]['Inv'] - pronostico <= tolerancia * nodo[1]['Up']:\n",
    "            visitas[nodo[0]] = True\n",
    "    \n",
    "    return visitas"
   ]
  },
  {
   "cell_type": "code",
   "execution_count": 7,
   "metadata": {},
   "outputs": [
    {
     "name": "stdout",
     "output_type": "stream",
     "text": [
      "N_0 -581\n",
      "N_1 87\n",
      "N_2 27\n",
      "N_3 10\n",
      "N_4 55\n",
      "N_5 71\n",
      "N_6 69\n",
      "N_7 79\n",
      "N_8 43\n",
      "N_9 77\n",
      "N_10 63\n"
     ]
    }
   ],
   "source": [
    "for nodo in G.nodes(data=True):\n",
    "    print(nodo[0],nodo[1]['Prod'])"
   ]
  },
  {
   "cell_type": "code",
   "execution_count": 8,
   "metadata": {},
   "outputs": [
    {
     "ename": "NameError",
     "evalue": "name 'dem_historico' is not defined",
     "output_type": "error",
     "traceback": [
      "\u001b[1;31m---------------------------------------------------------------------------\u001b[0m",
      "\u001b[1;31mNameError\u001b[0m                                 Traceback (most recent call last)",
      "\u001b[1;32md:\\UNIVERSIDAD\\Cuarto\\Semestre 8\\IPRE\\IPRE-IRP\\simulacion_IRP.ipynb Cell 8\u001b[0m line \u001b[0;36m<cell line: 26>\u001b[1;34m()\u001b[0m\n\u001b[0;32m     <a href='vscode-notebook-cell:/d%3A/UNIVERSIDAD/Cuarto/Semestre%208/IPRE/IPRE-IRP/simulacion_IRP.ipynb#X10sZmlsZQ%3D%3D?line=23'>24</a>\u001b[0m \u001b[39m#graficar demanda historica\u001b[39;00m\n\u001b[0;32m     <a href='vscode-notebook-cell:/d%3A/UNIVERSIDAD/Cuarto/Semestre%208/IPRE/IPRE-IRP/simulacion_IRP.ipynb#X10sZmlsZQ%3D%3D?line=24'>25</a>\u001b[0m plt\u001b[39m.\u001b[39mfigure(figsize\u001b[39m=\u001b[39m(\u001b[39m10\u001b[39m, \u001b[39m5\u001b[39m))\n\u001b[1;32m---> <a href='vscode-notebook-cell:/d%3A/UNIVERSIDAD/Cuarto/Semestre%208/IPRE/IPRE-IRP/simulacion_IRP.ipynb#X10sZmlsZQ%3D%3D?line=25'>26</a>\u001b[0m \u001b[39mfor\u001b[39;00m nodo \u001b[39min\u001b[39;00m dem_historico\u001b[39m.\u001b[39mkeys():\n\u001b[0;32m     <a href='vscode-notebook-cell:/d%3A/UNIVERSIDAD/Cuarto/Semestre%208/IPRE/IPRE-IRP/simulacion_IRP.ipynb#X10sZmlsZQ%3D%3D?line=26'>27</a>\u001b[0m     \u001b[39mif\u001b[39;00m nodo \u001b[39m!=\u001b[39m \u001b[39m'\u001b[39m\u001b[39mN_0\u001b[39m\u001b[39m'\u001b[39m:\n\u001b[0;32m     <a href='vscode-notebook-cell:/d%3A/UNIVERSIDAD/Cuarto/Semestre%208/IPRE/IPRE-IRP/simulacion_IRP.ipynb#X10sZmlsZQ%3D%3D?line=27'>28</a>\u001b[0m         plt\u001b[39m.\u001b[39mplot(dem_historico[nodo])\n",
      "\u001b[1;31mNameError\u001b[0m: name 'dem_historico' is not defined"
     ]
    },
    {
     "data": {
      "text/plain": [
       "<Figure size 720x360 with 0 Axes>"
      ]
     },
     "metadata": {},
     "output_type": "display_data"
    }
   ],
   "source": [
    "def simular_demanda_previa(G, dist = 'n',T =100, ruido = 0):\n",
    "    \"\"\"\n",
    "    Función que simula la demanda previa de los locales.\n",
    "    \"\"\"\n",
    "    demandas = {nodo : [] for nodo in G.nodes() if nodo != 'N_0'}\n",
    "    # r = {nodo : nodo[1]['Prod'] for nodo in G.nodes(data=True)}\n",
    "    if dist == 'n':\n",
    "        for nodo in G.nodes(data=True):\n",
    "            print(nodo[0],nodo[1]['Prod'])\n",
    "            if nodo[0] != 'N_0':\n",
    "                dem_pasadas = [max(\n",
    "                    np.random.normal(loc = nodo[1]['Prod'], scale = nodo[1]['Prod'] * 0.05) \n",
    "                    + np.random.normal(loc = 0, scale = nodo[1]['Prod'] * ruido)\n",
    "                    ,0) for _ in range(T)]\n",
    "                demandas[nodo[0]] = dem_pasadas\n",
    "         \n",
    "    return demandas\n",
    "\n",
    "def smooth(y, box_pts):\n",
    "    box = np.ones(box_pts)/box_pts\n",
    "    y_smooth = np.convolve(y, box, mode='same')\n",
    "    return y_smooth\n",
    "\n",
    "#graficar demanda historica\n",
    "plt.figure(figsize=(10, 5))\n",
    "for nodo in dem_historico.keys():\n",
    "    if nodo != 'N_0':\n",
    "        plt.plot(dem_historico[nodo])\n",
    "        # plt.plot(smooth(dem_historico[nodo], 10))\n",
    "plt.legend([nodo for nodo in dem_historico.keys() if nodo != 'N_0'])\n",
    "plt.xlabel('Días')\n",
    "plt.ylabel('Demanda')\n",
    "plt.title('Demanda histórica')\n",
    "plt.show()\n"
   ]
  },
  {
   "cell_type": "code",
   "execution_count": null,
   "metadata": {},
   "outputs": [
    {
     "data": {
      "image/png": "[encoded data removed]",
      "text/plain": [
       "<Figure size 1000x500 with 1 Axes>"
      ]
     },
     "execution_count": null,
     "metadata": {},
     "output_type": "execute_result"
    }
   ],
   "source": [
    "dict = {'a': 1, 'b': 2, 'c': 3}\n",
    "dict['a']"
   ]
  },
  {
   "cell_type": "code",
   "execution_count": null,
   "metadata": {},
   "outputs": [
    {
     "name": "stdout",
     "output_type": "stream",
     "text": [
      "{'N_3': 9.327456039746272, 'N_4': 55.28579035017527, 'N_10': 58.5426612035714, 'N_5': 72.16780188403617, 'N_2': 29.083816370160065, 'N_6': 67.02162001773617, 'N_1': 87.24663035328884, 'N_8': 43.52730514707535, 'N_9': 76.82979113899923, 'N_7': 80.63663207637609}\n",
      "9.569569386357804\n"
     ]
    }
   ],
   "source": [
    "def SEDA(datos, pron = False, alpha=0.1, beta=0.1, theta=0.5):\n",
    "    '''\n",
    "    Suavizamiento Exponencial Doble Amortiguado\n",
    "    Aplica el método de suavizamiento exponencial doble a una serie de datos,\n",
    "    específicmamente el Método de Holt Damped.\n",
    "    '''\n",
    "    I = [datos[0]]\n",
    "    S = [datos[1]-datos[0]]\n",
    "    for i in range(1,len(datos)):\n",
    "        I.append(alpha*datos[i] + (1-alpha)*(I[i-1]+ theta*S[i-1]))\n",
    "        S.append(beta*(I[i]-I[i-1])+(1-beta)*S[i-1])\n",
    "    \n",
    "    next = I[-1] + theta * S[-1]\n",
    "    if pron:\n",
    "        return next\n",
    "    else:\n",
    "        I.append(next)\n",
    "        return I\n",
    "\n",
    "muestra = True\n",
    "\n",
    "if muestra:\n",
    "    dem_historico = simular_demanda_previa(G, dist = 'n', T=1000) \n",
    "    demanda = {nodo: dem_historico[nodo][-1] for nodo in set(dem_historico)-set(['N_0'])}\n",
    "    data = {nodo: dem_historico[nodo][1:] for nodo in set(dem_historico)-set(['N_0'])}\n",
    "    y = [SEDA(data[nodo], pron=True, alpha = 0.5) for nodo in set(data)]\n",
    "    medias = [np.mean(data[nodo]) for nodo in set(data)]\n",
    "    ind = np.arange(len(y))\n",
    "\n",
    "    # y = [SEDA(dem_historico[nodo], pron=True, alpha = 0.5) for nodo in set(dem_historico)-set(['N_0'])]\n",
    "    # medias = [np.mean(dem_historico[nodo]) for nodo in set(dem_historico)-set(['N_0'])]\n",
    "    # ind = np.arange(len(y))\n",
    "    \n",
    "    # print(y)\n",
    "    ancho = 0.3\n",
    "    plt.figure(figsize=(10, 5))\n",
    "    plt.plot(y, 'o', label='Pronóstico', color='red')\n",
    "    plt.plot(medias, 'o', label='Promedio', color='blue')\n",
    "    plt.plot(demanda.values(), 'o', label='Realización', color='black')\n",
    "    # plt.bar(ind, y, width=ancho, label='Pronóstico', color='red')\n",
    "    # plt.bar(ind + ancho, medias, width=ancho, label='Promedio', color='blue')\n",
    "    plt.xticks(ind + ancho / 2, [f'N_{i}' for i in range(1,len(y)+1)])\n",
    "\n",
    "    plt.xlabel('Días')\n",
    "    plt.ylabel('Demanda')\n",
    "    plt.title('Demanda histórica')\n",
    "    plt.legend()\n",
    "    plt.show()\n",
    "print(demanda)\n",
    "print(y[0])\n",
    "# print(medias)"
   ]
  },
  {
   "cell_type": "markdown",
   "metadata": {},
   "source": []
  },
  {
   "cell_type": "code",
   "execution_count": null,
   "metadata": {},
   "outputs": [
    {
     "name": "stdout",
     "output_type": "stream",
     "text": [
      "b\n",
      "c\n"
     ]
    }
   ],
   "source": [
    "dict = {'a': 1, 'b': 2, 'c': 3}\n",
    "for key in set(dict)-set('a'):\n",
    "    print(key)"
   ]
  },
  {
   "cell_type": "code",
   "execution_count": null,
   "metadata": {},
   "outputs": [
    {
     "name": "stdout",
     "output_type": "stream",
     "text": [
      "[1428, 87, 27, 20, 55, 142, 69, 158, 86, 77, 126]\n"
     ]
    }
   ],
   "source": [
    "def simular_ejecucion(grafo_inicial = G, T=600, ALNS=True):\n",
    "    # Inicializar variables     \n",
    "    # ---------------------\n",
    "    G0 = grafo_inicial.copy()\n",
    "    matriz_dst = calcular_matriz_dist(G0)\n",
    "    ubicaciones = list(G0.nodes()) # Lista de ubicaciones\n",
    "    inventarios = [G0.nodes(data=True)[i]['Inv'] for i in ubicaciones] # Lista de inventarios\n",
    "    h = [G0.nodes(data=True)[i]['h'] for i in ubicaciones] # Lista de costos de inventario\n",
    "    dem_historico = simular_demanda_previa(G0, dist = 'n', T=1000) \n",
    "\n",
    "    \n",
    "\n",
    "\n",
    "simular_ejecucion(G)\n",
    "        "
   ]
  },
  {
   "cell_type": "code",
   "execution_count": null,
   "metadata": {},
   "outputs": [
    {
     "data": {
      "text/plain": [
       "1428"
      ]
     },
     "execution_count": 13,
     "metadata": {},
     "output_type": "execute_result"
    }
   ],
   "source": [
    "G.nodes(data=True)['N_0']['Inv']"
   ]
  }
 ],
 "metadata": {
  "kernelspec": {
   "display_name": "Python 3",
   "language": "python",
   "name": "python3"
  },
  "language_info": {
   "codemirror_mode": {
    "name": "ipython",
    "version": 3
   },
   "file_extension": ".py",
   "mimetype": "text/x-python",
   "name": "python",
   "nbconvert_exporter": "python",
   "pygments_lexer": "ipython3",
   "version": "3.10.6"
  }
 },
 "nbformat": 4,
 "nbformat_minor": 2
}
