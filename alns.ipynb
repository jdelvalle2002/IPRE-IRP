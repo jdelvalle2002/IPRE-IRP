{
 "cells": [
  {
   "cell_type": "code",
   "execution_count": 162,
   "metadata": {},
   "outputs": [],
   "source": [
    "from alns import ALNS\n",
    "from alns.accept import RecordToRecordTravel, SimulatedAnnealing\n",
    "from alns.select import RouletteWheel\n",
    "from alns.stop import MaxRuntime\n",
    "import numpy as np\n",
    "import pandas as pd\n",
    "import networkx as nx\n",
    "import osmnx as ox\n",
    "import math\n",
    "import pandas as pd\n",
    "import random\n",
    "from matplotlib import pyplot as plt\n",
    "import numpy as np\n",
    "\n",
    "from instancia import crear_grafo_inicial\n",
    "from solvers_listos import (simular_demanda_diaria)\n",
    "\n",
    "from funciones import (\n",
    "    read_data,\n",
    "    calcular_distancia,\n",
    "    calcular_matriz_dist,\n",
    "    calcular_largo_ruta,\n",
    "    graficar_ruta,\n",
    ")\n",
    "\n",
    "random.seed(42)\n",
    "np.random.seed(42)"
   ]
  },
  {
   "cell_type": "code",
   "execution_count": 163,
   "metadata": {},
   "outputs": [],
   "source": [
    "def simular_demanda_diaria(data, dist=\"d\", log=False):\n",
    "    demanda = {}\n",
    "    demanda['N_0'] = 0\n",
    "    for i in range(1, len(data)):\n",
    "        if dist == \"p\":\n",
    "            demanda[f'N_{i}'] = int(round(np.random.poisson(data[i]), 0))\n",
    "        elif dist == \"n\":\n",
    "            demanda[f'N_{i}'] = int(round(np.random.normal(data[i], data[i] / 10), 0))\n",
    "        elif dist == \"u\":\n",
    "            demanda[f'N_{i}'] = int(round(np.random.uniform(data[i] / 2, data[i] * 1.5), 0))\n",
    "        elif dist == \"d\":\n",
    "            demanda[f'N_{i}'] = int(round(data[i], 0))\n",
    "\n",
    "    if log:\n",
    "        print(\"Demanda del día: \", demanda)\n",
    "        # print(i, \":\", data[i])\n",
    "    return demanda"
   ]
  },
  {
   "cell_type": "code",
   "execution_count": 164,
   "metadata": {},
   "outputs": [
    {
     "name": "stdout",
     "output_type": "stream",
     "text": [
      "{'N_0': 0, 'N_1': 42, 'N_2': 24, 'N_3': 64, 'N_4': 89, 'N_5': 61, 'N_6': 40, 'N_7': 74, 'N_8': 60, 'N_9': 15, 'N_10': 38, 'N_11': 42, 'N_12': 93, 'N_13': 44, 'N_14': 34, 'N_15': 29, 'N_16': 52, 'N_17': 71, 'N_18': 85, 'N_19': 42, 'N_20': 21, 'N_21': 56, 'N_22': 18, 'N_23': 32, 'N_24': 55, 'N_25': 45, 'N_26': 28, 'N_27': 12, 'N_28': 38, 'N_29': 92, 'N_30': 93}\n"
     ]
    }
   ],
   "source": [
    "# Cargar datos\n",
    "G, ubis, cap_tpte, info_locales = crear_grafo_inicial(archivo= 'IRP3.xlsx' ,plot=False)\n",
    "matriz_dst = calcular_matriz_dist_alns(G)\n",
    "demandas = simular_demanda_diaria(list(info_locales[\"r\"]), dist=\"n\")\n",
    "# for nodo in G.nodes(data=True):\n",
    "#     # print(nodo)\n",
    "#     print(demandas[int(nodo[0][2:])])\n",
    "print(demandas)"
   ]
  },
  {
   "cell_type": "code",
   "execution_count": 165,
   "metadata": {},
   "outputs": [],
   "source": [
    "class IRPState:\n",
    "    \"\"\"\n",
    "    Estado de solución del IRP\n",
    "    \"\"\"\n",
    "\n",
    "    def __init__(self, routes, unnasigned=None, matriz_dst = matriz_dst):\n",
    "        self.routes = routes  # será solo una ruta ya que es solo un vehículo\n",
    "        self.unnasigned = unnasigned if unnasigned is not None else []\n",
    "\n",
    "    def copy(self):\n",
    "        return IRPState(self.routes.copy(), self.unnasigned.copy())\n",
    "\n",
    "    def objective(self):\n",
    "        ruta = self.routes[0][:]\n",
    "        ruta = [int(x.split(\"_\")[-1]) for x in ruta]\n",
    "        return calcular_largo_ruta(ruta, matriz_dst)\n",
    "\n",
    "    @property\n",
    "    def cost(self):\n",
    "        return self.objective()\n",
    "\n",
    "    def find_route(self, node):\n",
    "        for route in self.routes:\n",
    "            if node in route:\n",
    "                return route"
   ]
  },
  {
   "cell_type": "code",
   "execution_count": 166,
   "metadata": {},
   "outputs": [
    {
     "data": {
      "text/plain": [
       "4"
      ]
     },
     "execution_count": 166,
     "metadata": {},
     "output_type": "execute_result"
    }
   ],
   "source": [
    "degree_of_destruction = 0.1\n",
    "nodes_to_destroy = int(np.ceil(degree_of_destruction * len(G.nodes)))\n",
    "nodes_to_destroy"
   ]
  },
  {
   "cell_type": "code",
   "execution_count": 167,
   "metadata": {},
   "outputs": [],
   "source": [
    "def random_removal(state, random_state):\n",
    "    destroyed = state.copy()\n",
    "\n",
    "    for node in random_state.choice(\n",
    "        range(1, len(G.nodes)), nodes_to_destroy, replace=False\n",
    "    ):\n",
    "        node = f\"N_{node}\"\n",
    "        if node == \"N_0\":\n",
    "            print(\"No se puede eliminar el depósito\")\n",
    "        destroyed.unnasigned.append(node)\n",
    "        route = destroyed.find_route(node)\n",
    "        if route is not None:\n",
    "            route.remove(node)\n",
    "    \n",
    "    non_empty_routes = [ruta for ruta in destroyed.routes if len(ruta) > 0]\n",
    "\n",
    "    destroyed.routes = non_empty_routes\n",
    "    return destroyed\n",
    "\n",
    "def greedy_repair(state, random_state):\n",
    "    repaired = state.copy()\n",
    "\n",
    "    random_state.shuffle(repaired.unnasigned)\n",
    "\n",
    "    while len(repaired.unnasigned) > 0:\n",
    "        node = repaired.unnasigned.pop()\n",
    "        route, idx = best_insert(node, repaired)\n",
    "        if route is not None:\n",
    "            route.insert(idx, node)\n",
    "        else:\n",
    "            repaired.routes.append([node])\n",
    "\n",
    "    return repaired\n",
    "\n",
    "def best_insert(node, state):\n",
    "    best_cost, best_route, best_idx = float(\"inf\"), None, None\n",
    "\n",
    "    for route in state.routes:\n",
    "        for i in range(1, len(route) + 1):\n",
    "            if can_insert(node, route):\n",
    "                cost = insertion_cost(node, route, i)\n",
    "\n",
    "                if cost < best_cost:\n",
    "                    best_cost = cost\n",
    "                    best_route = route\n",
    "                    best_idx = i\n",
    "\n",
    "    return best_route, best_idx\n",
    "\n",
    "def can_insert(node, route, demanda=demandas):\n",
    "    total = sum([demanda[nodo] for nodo in route])\n",
    "    return total + demanda[node] <= cap_tpte\n",
    "\n",
    "def insertion_cost(node, route, idx):\n",
    "    pred = \"N_0\" if idx == 0 else route[idx - 1]\n",
    "    succ = \"N_0\" if idx == len(route) else route[idx]\n",
    "    pred = int(pred.split(\"_\")[-1])\n",
    "    succ = int(succ.split(\"_\")[-1])\n",
    "    node = int(node.split(\"_\")[-1])\n",
    "    dist = matriz_dst[pred][node] + matriz_dst[node][succ] - matriz_dst[pred][succ]\n",
    "    return dist\n",
    "\n",
    "def calcular_matriz_dist_alns(G):\n",
    "    matriz_distancias = {int(nodo[2:]): {} for nodo in G.nodes()}\n",
    "    for arco in G.edges(data=True):\n",
    "        n1, n2, data = arco\n",
    "        n1 = int(n1.split(\"_\")[-1])\n",
    "        n2 = int(n2.split(\"_\")[-1])\n",
    "        matriz_distancias[n1][n2] = data['weight']\n",
    "\n",
    "    for n1 in G.nodes():\n",
    "        n1 = int(n1.split(\"_\")[-1])\n",
    "        for n2 in G.nodes():\n",
    "            n2 = int(n2.split(\"_\")[-1])\n",
    "            if n2 not in matriz_distancias[n1].keys():\n",
    "                matriz_distancias[n1][n2] = np.inf\n",
    "    return matriz_distancias"
   ]
  },
  {
   "cell_type": "code",
   "execution_count": 175,
   "metadata": {},
   "outputs": [
    {
     "name": "stdout",
     "output_type": "stream",
     "text": [
      "[['N_0', 'N_24', 'N_20', 'N_3', 'N_11', 'N_28', 'N_30', 'N_15', 'N_17', 'N_6', 'N_25', 'N_19', 'N_14', 'N_8', 'N_9', 'N_2', 'N_21', 'N_29', 'N_4', 'N_13', 'N_22']]\n"
     ]
    }
   ],
   "source": [
    "def neighborhood(G, node, distancias = matriz_dst, cap_tpte = np.inf):\n",
    "    # ordenaremos los nodo por distancia al nodo actual\n",
    "    \n",
    "    return sorted(G.neighbors(node), key=lambda x: distancias[int(node[2:])][int(x[2:])])\n",
    "\n",
    "cap_tpte = 1000\n",
    "def nearest_neighbor_adapted(G, demandas):\n",
    "    \"\"\"\n",
    "    Adaptación del algoritmo Nearest Neighbor descrito anteriormente para que se utilice con la\n",
    "    clase IRPState\n",
    "    \"\"\"\n",
    "    G0 = G.copy()\n",
    "    routes = []\n",
    "    available = list(G.nodes)\n",
    "    available.remove(\"N_0\")\n",
    "    route = [\"N_0\"]  # siempre empezamos en el nodo 0\n",
    "    route_demands = 0\n",
    "    distancias = calcular_matriz_dist_alns(G0)\n",
    "\n",
    "    while available:\n",
    "        current = route[-1]\n",
    "\n",
    "        my_neighbors = neighborhood(G0, current, distancias=distancias)\n",
    "        while my_neighbors[0] in route:\n",
    "            my_neighbors = my_neighbors[1:]\n",
    "        nearest = my_neighbors[0]\n",
    "\n",
    "        if route_demands + demandas[nearest] <= cap_tpte:\n",
    "            route.append(nearest)\n",
    "            route_demands += demandas[nearest]\n",
    "            # print('nodesd:', nodes, 'nearest:', nearest)\n",
    "            available.remove(nearest)\n",
    "        else:\n",
    "            break\n",
    "    routes.append(route)\n",
    "\n",
    "    return IRPState(routes)\n",
    "\n",
    "# irp_NN = nearest_neighbor_adapted(G, demandas)\n",
    "# print(irp_NN.routes)"
   ]
  },
  {
   "cell_type": "code",
   "execution_count": 169,
   "metadata": {},
   "outputs": [],
   "source": [
    "def simple_forecaster(x):\n",
    "    # recive el diccionario de demanda y devuelve un diccionario con una demanda levemente modificada\n",
    "    for key in x.keys():\n",
    "        noise = np.random.normal(0, 5)\n",
    "        x[key] = int(round(x[key] + noise, 0))"
   ]
  },
  {
   "cell_type": "code",
   "execution_count": 182,
   "metadata": {},
   "outputs": [
    {
     "name": "stdout",
     "output_type": "stream",
     "text": [
      "iniciando...\n",
      "Best heuristic objective is 1511.9516926504905.\n",
      "Route 0: ['N_0', 'N_10', 'N_7', 'N_23', 'N_17', 'N_6', 'N_25', 'N_19', 'N_16', 'N_14', 'N_8', 'N_9', 'N_2', 'N_5', 'N_20', 'N_26', 'N_1', 'N_0']\n"
     ]
    },
    {
     "data": {
      "image/png": "[encoded data removed]",
      "text/plain": [
       "<Figure size 500x500 with 1 Axes>"
      ]
     },
     "metadata": {},
     "output_type": "display_data"
    }
   ],
   "source": [
    "T = 10  # periodos\n",
    "V = 10  # vertices\n",
    "\n",
    "\n",
    "def proactive_routing_only(G, demandas, T=1):\n",
    "    print(\"iniciando...\")\n",
    "    init = nearest_neighbor_adapted(G, demandas)\n",
    "    for t in range(T):\n",
    "        # print(init.routes)\n",
    "        # for i in range(1, len(init.routes[t-1])):   # QUIZAS EST'E AFECTANDO NO MODIFICAR LAS DEMANDAS\n",
    "        # d = simple_forecaster(x)\n",
    "        #    pass\n",
    "\n",
    "        alns = ALNS(np.random.RandomState(42))\n",
    "        alns.add_destroy_operator(random_removal)\n",
    "        alns.add_repair_operator(greedy_repair)\n",
    "\n",
    "        select = RouletteWheel([10, 5, 2, 0], 0.7, 1, 1)\n",
    "        # accept = RecordToRecordTravel.autofit(init.objective(), 0.02, 0, 9000)\n",
    "        accept = SimulatedAnnealing(\n",
    "            start_temperature=20000,\n",
    "            end_temperature=0.1,\n",
    "            step=0.9993,\n",
    "            method=\"exponential\",\n",
    "        )\n",
    "        stop = MaxRuntime(5)\n",
    "\n",
    "        result = alns.iterate(init, select, accept, stop)\n",
    "        init = result.best_state\n",
    "\n",
    "    return result\n",
    "\n",
    "result = proactive_routing_only(G, demandas, T=2)\n",
    "solution = result.best_state\n",
    "objective = solution.objective()\n",
    "# pct_diff = 100 * (objective - bks.cost) / bks.cost\n",
    "\n",
    "print(f\"Best heuristic objective is {objective}.\")\n",
    "for idx, route in enumerate(solution.routes):\n",
    "    print(f\"Route {idx}:\", route + ['N_0'])\n",
    "    graficar_ruta(G= G, ruta= route + ['N_0'])"
   ]
  }
 ],
 "metadata": {
  "kernelspec": {
   "display_name": "Python 3",
   "language": "python",
   "name": "python3"
  },
  "language_info": {
   "codemirror_mode": {
    "name": "ipython",
    "version": 3
   },
   "file_extension": ".py",
   "mimetype": "text/x-python",
   "name": "python",
   "nbconvert_exporter": "python",
   "pygments_lexer": "ipython3",
   "version": "3.11.6"
  }
 },
 "nbformat": 4,
 "nbformat_minor": 2
}
